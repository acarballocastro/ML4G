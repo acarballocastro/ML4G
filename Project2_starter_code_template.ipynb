{
 "cells": [
  {
   "cell_type": "code",
   "execution_count": 45,
   "id": "73bf6dca",
   "metadata": {},
   "outputs": [],
   "source": [
    "import os\n",
    "import zipfile\n",
    "\n",
    "import pandas as pd\n",
    "import numpy as np\n",
    "import matplotlib\n",
    "import matplotlib.pyplot as plt\n",
    "%matplotlib inline\n",
    "\n",
    "# Imputation libraries\n",
    "import scprep # preprocessing\n",
    "import saver\n",
    "import magic\n",
    "\n",
    "from scipy.stats import spearmanr"
   ]
  },
  {
   "cell_type": "markdown",
   "id": "20e76b52",
   "metadata": {},
   "source": [
    "# Step 0: Download the training data"
   ]
  },
  {
   "cell_type": "code",
   "execution_count": 4,
   "id": "4dc0e1f6",
   "metadata": {},
   "outputs": [],
   "source": [
    "path_data = \"data/\"\n",
    "results_path = \"results\"\n",
    "archive_name = \"CarballoCastro_Alba.zip\""
   ]
  },
  {
   "cell_type": "code",
   "execution_count": 24,
   "id": "428ce22e",
   "metadata": {},
   "outputs": [],
   "source": [
    "bulk_pancreas = pd.read_csv(os.path.join(path_data,\"train_data\",\"pancreas_bulk_train.csv\")).set_index(\"level_0\")\n",
    "sc_pancreas = pd.read_csv(os.path.join(path_data,\"train_data\",\"pancreas_sc_train.csv\")).set_index(\"Unnamed: 0\")\n",
    "sc_pancreas_metadata = pd.read_csv(os.path.join(path_data,\"train_data\",\"pancreas_sc_metadata_train.csv\")).set_index(\"Source Name\")\n",
    "\n",
    "sc_pancreas_test = pd.read_csv(os.path.join(path_data,\"test_data\",\"pancreas_sc_test.csv\")).set_index(\"Unnamed: 0\")\n",
    "sc_pancreas_metadata_test = pd.read_csv(os.path.join(path_data,\"test_data\",\"pancreas_sc_metadata_test_wocelltype.csv\")).set_index(\"Source Name\")"
   ]
  },
  {
   "cell_type": "code",
   "execution_count": 6,
   "id": "9bd6c906",
   "metadata": {},
   "outputs": [
    {
     "name": "stdout",
     "output_type": "stream",
     "text": [
      "Number of patients in the train dataset 4\n",
      "Number of genes in the dataset 25453\n",
      "Number of cells in the train dataset 978\n"
     ]
    }
   ],
   "source": [
    "print(f\"Number of patients in the train dataset {bulk_pancreas.shape[1]}\")\n",
    "print(f\"Number of genes in the dataset {bulk_pancreas.shape[0]}\")\n",
    "\n",
    "assert bulk_pancreas.shape[0] == sc_pancreas.shape[0]\n",
    "print(f\"Number of cells in the train dataset {sc_pancreas.shape[1]}\")"
   ]
  },
  {
   "cell_type": "code",
   "execution_count": 7,
   "id": "6c382b33",
   "metadata": {},
   "outputs": [
    {
     "name": "stdout",
     "output_type": "stream",
     "text": [
      "Number of cells in the test dataset 789\n"
     ]
    }
   ],
   "source": [
    "print(f\"Number of cells in the test dataset {sc_pancreas_test.shape[1]}\")"
   ]
  },
  {
   "cell_type": "code",
   "execution_count": 8,
   "id": "bde772cf",
   "metadata": {},
   "outputs": [
    {
     "name": "stdout",
     "output_type": "stream",
     "text": [
      "Number of cells for patient1 is 249\n",
      "Number of cells for patient3 is 219\n",
      "Number of cells for patient2 is 234\n",
      "Number of cells for patient4 is 276\n"
     ]
    }
   ],
   "source": [
    "for patient in sc_pancreas_metadata.Sample.unique():\n",
    "    print(f\"Number of cells for {patient} is {sc_pancreas_metadata[sc_pancreas_metadata.Sample==patient].shape[0]}\")"
   ]
  },
  {
   "cell_type": "code",
   "execution_count": 9,
   "id": "e2027c27",
   "metadata": {},
   "outputs": [
    {
     "name": "stdout",
     "output_type": "stream",
     "text": [
      "There are 2 train patients with type II diabetes mellitus\n",
      "There are 2 train patients with normal\n"
     ]
    }
   ],
   "source": [
    "for dis in sc_pancreas_metadata.Disease.unique():\n",
    "    df = sc_pancreas_metadata[sc_pancreas_metadata.Disease==dis]\n",
    "    print(f\"There are {df.Sample.nunique()} train patients with {dis}\")"
   ]
  },
  {
   "cell_type": "code",
   "execution_count": 10,
   "id": "806c6c0a",
   "metadata": {},
   "outputs": [
    {
     "name": "stdout",
     "output_type": "stream",
     "text": [
      "There are 11 different cell types in the dataset\n",
      "The different cells types are ['delta cell' 'alpha cell' 'beta cell' 'PSC cell' 'endothelial cell'\n",
      " 'gamma cell' 'co-expression cell' 'ductal cell' 'epsilon cell'\n",
      " 'unclassified endocrine cell' 'acinar cell']\n"
     ]
    }
   ],
   "source": [
    "print(f\"There are {df.Celltype.nunique()} different cell types in the dataset\")\n",
    "print(f\"The different cells types are {df.Celltype.unique()}\")"
   ]
  },
  {
   "cell_type": "code",
   "execution_count": 11,
   "id": "2ee0bc2b",
   "metadata": {},
   "outputs": [
    {
     "name": "stdout",
     "output_type": "stream",
     "text": [
      "Number of cells for patient5 is 203\n",
      "Number of cells for patient7 is 284\n",
      "Number of cells for patient6 is 302\n"
     ]
    }
   ],
   "source": [
    "for patient in sc_pancreas_metadata_test.Sample.unique():\n",
    "    print(f\"Number of cells for {patient} is {sc_pancreas_metadata_test[sc_pancreas_metadata_test.Sample==patient].shape[0]}\")"
   ]
  },
  {
   "cell_type": "code",
   "execution_count": 12,
   "id": "ffd5982d",
   "metadata": {},
   "outputs": [
    {
     "name": "stdout",
     "output_type": "stream",
     "text": [
      "There are 1 test patients with normal\n",
      "There are 2 test patients with type II diabetes mellitus\n"
     ]
    }
   ],
   "source": [
    "for dis in sc_pancreas_metadata_test.Disease.unique():\n",
    "    df = sc_pancreas_metadata_test[sc_pancreas_metadata_test.Disease==dis]\n",
    "    print(f\"There are {df.Sample.nunique()} test patients with {dis}\")"
   ]
  },
  {
   "cell_type": "markdown",
   "id": "9d634db5",
   "metadata": {},
   "source": [
    "# Step 1: Perform the imputation"
   ]
  },
  {
   "attachments": {},
   "cell_type": "markdown",
   "id": "6b7a0205",
   "metadata": {},
   "source": [
    "### Data preprocessing\n",
    "\n",
    "* Filtering: we see that data is prefiltered\n",
    "* Normalization: log transform with pseudocount\n",
    "* Removing unexpressed genes? -> MAGIC recomienda pero según las guidelines no se debe eliminar ningún gen"
   ]
  },
  {
   "cell_type": "code",
   "execution_count": 19,
   "id": "91ee036e",
   "metadata": {},
   "outputs": [
    {
     "name": "stderr",
     "output_type": "stream",
     "text": [
      "/home/acarballocastro/.conda/envs/ML4G_Proj2/lib/python3.10/site-packages/scprep/plot/histogram.py:180: UserWarning: All values for SymLogScale are below linthresh, making it effectively linear. You likely should lower the value of linthresh. \n",
      "  ax.axvline(cutoff, color=\"red\")\n",
      "/home/acarballocastro/.conda/envs/ML4G_Proj2/lib/python3.10/site-packages/scprep/plot/utils.py:104: UserWarning: Matplotlib is currently using module://matplotlib_inline.backend_inline, which is a non-GUI backend, so cannot show the figure.\n",
      "  fig.show()\n"
     ]
    },
    {
     "data": {
      "text/plain": [
       "<Axes: xlabel='Library size', ylabel='Number of cells'>"
      ]
     },
     "execution_count": 19,
     "metadata": {},
     "output_type": "execute_result"
    },
    {
     "data": {
      "image/png": "[encoded data removed]",
      "text/plain": [
       "<Figure size 640x480 with 1 Axes>"
      ]
     },
     "metadata": {},
     "output_type": "display_data"
    }
   ],
   "source": [
    "scprep.plot.plot_library_size(sc_pancreas.transpose(), cutoff=2000)"
   ]
  },
  {
   "cell_type": "code",
   "execution_count": 25,
   "id": "71bfd660",
   "metadata": {},
   "outputs": [],
   "source": [
    "sc_pancreas_norm = scprep.normalize.library_size_normalize(sc_pancreas.transpose())\n",
    "sc_pancreas_norm = scprep.transform.sqrt(sc_pancreas_norm)"
   ]
  },
  {
   "attachments": {},
   "cell_type": "markdown",
   "id": "89b810c9",
   "metadata": {},
   "source": [
    "### Imputation using MAGIC"
   ]
  },
  {
   "cell_type": "code",
   "execution_count": 27,
   "id": "8cac5702",
   "metadata": {},
   "outputs": [],
   "source": [
    "magic_op = magic.MAGIC()"
   ]
  },
  {
   "cell_type": "code",
   "execution_count": 28,
   "id": "b1917e96",
   "metadata": {},
   "outputs": [
    {
     "name": "stdout",
     "output_type": "stream",
     "text": [
      "Calculating MAGIC...\n",
      "  Running MAGIC on 978 cells and 25453 genes.\n",
      "  Calculating graph and diffusion operator...\n",
      "    Calculating PCA...\n"
     ]
    },
    {
     "name": "stderr",
     "output_type": "stream",
     "text": [
      "/home/acarballocastro/.conda/envs/ML4G_Proj2/lib/python3.10/site-packages/magic/magic.py:425: UserWarning: Input matrix contains unexpressed genes. Please remove them prior to running MAGIC.\n",
      "  warnings.warn(\n"
     ]
    },
    {
     "name": "stdout",
     "output_type": "stream",
     "text": [
      "    Calculated PCA in 3.90 seconds.\n",
      "    Calculating KNN search...\n",
      "    Calculated KNN search in 0.09 seconds.\n",
      "    Calculating affinities...\n",
      "    Calculated affinities in 0.06 seconds.\n",
      "  Calculated graph and diffusion operator in 4.08 seconds.\n",
      "  Running MAGIC with `solver='exact'` on 25453-dimensional data may take a long time. Consider denoising specific genes with `genes=<list-like>` or using `solver='approximate'`.\n",
      "  Calculating imputation...\n",
      "  Calculated imputation in 0.34 seconds.\n",
      "Calculated MAGIC in 4.49 seconds.\n"
     ]
    },
    {
     "data": {
      "text/html": [
       "<div>\n",
       "<style scoped>\n",
       "    .dataframe tbody tr th:only-of-type {\n",
       "        vertical-align: middle;\n",
       "    }\n",
       "\n",
       "    .dataframe tbody tr th {\n",
       "        vertical-align: top;\n",
       "    }\n",
       "\n",
       "    .dataframe thead th {\n",
       "        text-align: right;\n",
       "    }\n",
       "</style>\n",
       "<table border=\"1\" class=\"dataframe\">\n",
       "  <thead>\n",
       "    <tr style=\"text-align: right;\">\n",
       "      <th>Unnamed: 0</th>\n",
       "      <th>SGIP1</th>\n",
       "      <th>AZIN2</th>\n",
       "      <th>CLIC4</th>\n",
       "      <th>AGBL4</th>\n",
       "      <th>NECAP2</th>\n",
       "      <th>SLC45A1</th>\n",
       "      <th>TGFBR3</th>\n",
       "      <th>DBT</th>\n",
       "      <th>RFWD2</th>\n",
       "      <th>C1orf21</th>\n",
       "      <th>...</th>\n",
       "      <th>LOC389831</th>\n",
       "      <th>MGC70870</th>\n",
       "      <th>KIR2DS5</th>\n",
       "      <th>KIR2DL5A</th>\n",
       "      <th>KIR3DS1</th>\n",
       "      <th>KIR2DL5B</th>\n",
       "      <th>KIR2DS2</th>\n",
       "      <th>KIR2DS1</th>\n",
       "      <th>KIR2DL2</th>\n",
       "      <th>KIR2DS3</th>\n",
       "    </tr>\n",
       "  </thead>\n",
       "  <tbody>\n",
       "    <tr>\n",
       "      <th>patient1_A10</th>\n",
       "      <td>0.004099</td>\n",
       "      <td>0.010050</td>\n",
       "      <td>0.590809</td>\n",
       "      <td>0.008393</td>\n",
       "      <td>0.647240</td>\n",
       "      <td>0.001070</td>\n",
       "      <td>0.077023</td>\n",
       "      <td>0.283540</td>\n",
       "      <td>0.581117</td>\n",
       "      <td>0.471292</td>\n",
       "      <td>...</td>\n",
       "      <td>0.0</td>\n",
       "      <td>0.0</td>\n",
       "      <td>0.0</td>\n",
       "      <td>0.0</td>\n",
       "      <td>0.0</td>\n",
       "      <td>0.0</td>\n",
       "      <td>0.0</td>\n",
       "      <td>0.0</td>\n",
       "      <td>0.0</td>\n",
       "      <td>0.0</td>\n",
       "    </tr>\n",
       "    <tr>\n",
       "      <th>patient1_A12</th>\n",
       "      <td>0.000000</td>\n",
       "      <td>0.097832</td>\n",
       "      <td>0.075945</td>\n",
       "      <td>0.009244</td>\n",
       "      <td>0.133369</td>\n",
       "      <td>0.030899</td>\n",
       "      <td>0.001958</td>\n",
       "      <td>0.133683</td>\n",
       "      <td>0.117294</td>\n",
       "      <td>0.342855</td>\n",
       "      <td>...</td>\n",
       "      <td>0.0</td>\n",
       "      <td>0.0</td>\n",
       "      <td>0.0</td>\n",
       "      <td>0.0</td>\n",
       "      <td>0.0</td>\n",
       "      <td>0.0</td>\n",
       "      <td>0.0</td>\n",
       "      <td>0.0</td>\n",
       "      <td>0.0</td>\n",
       "      <td>0.0</td>\n",
       "    </tr>\n",
       "    <tr>\n",
       "      <th>patient1_A13</th>\n",
       "      <td>0.164206</td>\n",
       "      <td>0.152560</td>\n",
       "      <td>0.134561</td>\n",
       "      <td>0.103193</td>\n",
       "      <td>0.313295</td>\n",
       "      <td>0.057124</td>\n",
       "      <td>0.000842</td>\n",
       "      <td>0.292132</td>\n",
       "      <td>0.131904</td>\n",
       "      <td>0.179731</td>\n",
       "      <td>...</td>\n",
       "      <td>0.0</td>\n",
       "      <td>0.0</td>\n",
       "      <td>0.0</td>\n",
       "      <td>0.0</td>\n",
       "      <td>0.0</td>\n",
       "      <td>0.0</td>\n",
       "      <td>0.0</td>\n",
       "      <td>0.0</td>\n",
       "      <td>0.0</td>\n",
       "      <td>0.0</td>\n",
       "    </tr>\n",
       "    <tr>\n",
       "      <th>patient1_A15</th>\n",
       "      <td>0.142771</td>\n",
       "      <td>0.129735</td>\n",
       "      <td>0.155393</td>\n",
       "      <td>0.087480</td>\n",
       "      <td>0.324896</td>\n",
       "      <td>0.059825</td>\n",
       "      <td>0.002075</td>\n",
       "      <td>0.332089</td>\n",
       "      <td>0.173046</td>\n",
       "      <td>0.207765</td>\n",
       "      <td>...</td>\n",
       "      <td>0.0</td>\n",
       "      <td>0.0</td>\n",
       "      <td>0.0</td>\n",
       "      <td>0.0</td>\n",
       "      <td>0.0</td>\n",
       "      <td>0.0</td>\n",
       "      <td>0.0</td>\n",
       "      <td>0.0</td>\n",
       "      <td>0.0</td>\n",
       "      <td>0.0</td>\n",
       "    </tr>\n",
       "    <tr>\n",
       "      <th>patient1_A17</th>\n",
       "      <td>0.115821</td>\n",
       "      <td>0.112809</td>\n",
       "      <td>0.102682</td>\n",
       "      <td>0.103428</td>\n",
       "      <td>0.374575</td>\n",
       "      <td>0.065775</td>\n",
       "      <td>0.002173</td>\n",
       "      <td>0.286788</td>\n",
       "      <td>0.272859</td>\n",
       "      <td>0.170682</td>\n",
       "      <td>...</td>\n",
       "      <td>0.0</td>\n",
       "      <td>0.0</td>\n",
       "      <td>0.0</td>\n",
       "      <td>0.0</td>\n",
       "      <td>0.0</td>\n",
       "      <td>0.0</td>\n",
       "      <td>0.0</td>\n",
       "      <td>0.0</td>\n",
       "      <td>0.0</td>\n",
       "      <td>0.0</td>\n",
       "    </tr>\n",
       "  </tbody>\n",
       "</table>\n",
       "<p>5 rows × 25453 columns</p>\n",
       "</div>"
      ],
      "text/plain": [
       "Unnamed: 0       SGIP1     AZIN2     CLIC4     AGBL4    NECAP2   SLC45A1  \\\n",
       "patient1_A10  0.004099  0.010050  0.590809  0.008393  0.647240  0.001070   \n",
       "patient1_A12  0.000000  0.097832  0.075945  0.009244  0.133369  0.030899   \n",
       "patient1_A13  0.164206  0.152560  0.134561  0.103193  0.313295  0.057124   \n",
       "patient1_A15  0.142771  0.129735  0.155393  0.087480  0.324896  0.059825   \n",
       "patient1_A17  0.115821  0.112809  0.102682  0.103428  0.374575  0.065775   \n",
       "\n",
       "Unnamed: 0      TGFBR3       DBT     RFWD2   C1orf21  ...  LOC389831  \\\n",
       "patient1_A10  0.077023  0.283540  0.581117  0.471292  ...        0.0   \n",
       "patient1_A12  0.001958  0.133683  0.117294  0.342855  ...        0.0   \n",
       "patient1_A13  0.000842  0.292132  0.131904  0.179731  ...        0.0   \n",
       "patient1_A15  0.002075  0.332089  0.173046  0.207765  ...        0.0   \n",
       "patient1_A17  0.002173  0.286788  0.272859  0.170682  ...        0.0   \n",
       "\n",
       "Unnamed: 0    MGC70870  KIR2DS5  KIR2DL5A  KIR3DS1  KIR2DL5B  KIR2DS2  \\\n",
       "patient1_A10       0.0      0.0       0.0      0.0       0.0      0.0   \n",
       "patient1_A12       0.0      0.0       0.0      0.0       0.0      0.0   \n",
       "patient1_A13       0.0      0.0       0.0      0.0       0.0      0.0   \n",
       "patient1_A15       0.0      0.0       0.0      0.0       0.0      0.0   \n",
       "patient1_A17       0.0      0.0       0.0      0.0       0.0      0.0   \n",
       "\n",
       "Unnamed: 0    KIR2DS1  KIR2DL2  KIR2DS3  \n",
       "patient1_A10      0.0      0.0      0.0  \n",
       "patient1_A12      0.0      0.0      0.0  \n",
       "patient1_A13      0.0      0.0      0.0  \n",
       "patient1_A15      0.0      0.0      0.0  \n",
       "patient1_A17      0.0      0.0      0.0  \n",
       "\n",
       "[5 rows x 25453 columns]"
      ]
     },
     "execution_count": 28,
     "metadata": {},
     "output_type": "execute_result"
    }
   ],
   "source": [
    "pancreas_magic = magic_op.fit_transform(sc_pancreas_norm)\n",
    "pancreas_magic.head()"
   ]
  },
  {
   "cell_type": "code",
   "execution_count": 52,
   "id": "f9d982ff",
   "metadata": {},
   "outputs": [],
   "source": [
    "bulkified_magic = sc_pancreas_metadata.join(pancreas_magic, on=\"Source Name\").groupby('Sample', as_index=False).mean().transpose().tail(-1)\n",
    "bulkified_magic.columns = [\"patient1\",\"patient2\",\"patient3\",\"patient4\"]\n",
    "bulkified_magic.index = sc_pancreas.index"
   ]
  },
  {
   "attachments": {},
   "cell_type": "markdown",
   "id": "1056a6e4",
   "metadata": {},
   "source": [
    "### Spearman"
   ]
  },
  {
   "cell_type": "code",
   "execution_count": 53,
   "id": "04642369",
   "metadata": {},
   "outputs": [
    {
     "data": {
      "text/plain": [
       "0.9594826400385812"
      ]
     },
     "execution_count": 53,
     "metadata": {},
     "output_type": "execute_result"
    }
   ],
   "source": [
    "# MAGIC\n",
    "corr, pval = spearmanr(bulk_pancreas, bulkified_magic)\n",
    "spearman = corr.mean()\n",
    "spearman"
   ]
  },
  {
   "cell_type": "markdown",
   "id": "131d64a6",
   "metadata": {},
   "source": [
    "# Step 2: Perform clustering "
   ]
  },
  {
   "cell_type": "markdown",
   "id": "652a8830",
   "metadata": {},
   "source": [
    "# Step 3: Predict on the test data"
   ]
  },
  {
   "attachments": {},
   "cell_type": "markdown",
   "id": "630b787c",
   "metadata": {},
   "source": [
    "* Imputation: Spearman correlation between bulkified from train and bulk\n",
    "* Clustering: mean of metrics"
   ]
  },
  {
   "cell_type": "markdown",
   "id": "d2cc8182",
   "metadata": {},
   "source": [
    "# Step 4: Save the required files"
   ]
  },
  {
   "cell_type": "code",
   "execution_count": null,
   "id": "2da285de",
   "metadata": {},
   "outputs": [],
   "source": [
    "# bulkified should be a DataFrame containing the \"bulkified\" version of the imputed data\n",
    "# bulkified.columns = [\"patient5\",\"patient6\",\"patient7\"]\n",
    "# bulkified.index = sc_pancreas_test.index"
   ]
  },
  {
   "cell_type": "code",
   "execution_count": null,
   "id": "0dfefc0e",
   "metadata": {},
   "outputs": [],
   "source": [
    "# assert all(bulkified.columns == [\"index\",\"patient5\",\"patient6\",\"patient7\"])\n",
    "# assert all(bulkified[\"index\"] == sc_pancreas_test.index)"
   ]
  },
  {
   "cell_type": "code",
   "execution_count": null,
   "id": "eec6fdbe",
   "metadata": {},
   "outputs": [],
   "source": [
    "# cluster_labels should be a DataFrame containing the cluster labels for each cell\n",
    "# cluster_labels.columns = [\"index\", \"cluster\"]\n",
    "# cluster_labels[\"index\"] = sc_pancreas_test.columns"
   ]
  },
  {
   "cell_type": "code",
   "execution_count": null,
   "id": "b579f622",
   "metadata": {},
   "outputs": [],
   "source": [
    "# assert all(cluster_labels.columns == [\"index\",\"cluster\"])\n",
    "# assert all(cluster_labels[\"index\"] == sc_pancreas_test.columns)"
   ]
  },
  {
   "cell_type": "code",
   "execution_count": null,
   "id": "74b55afd",
   "metadata": {},
   "outputs": [],
   "source": [
    "# PCA should be a DataFrame containing the coordinates of each cell in the PCA transformed space for the 50 first PCs\n",
    "# PCA.columns = [\"index\", \"PC1\", \"PC2\", ..., \"PC50\"]\n",
    "# PCA[\"index\"] = sc_pancreas_test.columns"
   ]
  },
  {
   "cell_type": "code",
   "execution_count": null,
   "id": "83835eae",
   "metadata": {},
   "outputs": [],
   "source": [
    "# assert all(PCA.columns == [\"index\"] + [\"PC\"+str(i+1) for i in range(50)])\n",
    "# assert all(PCA[\"index\"] == sc_pancreas_test.columns)"
   ]
  },
  {
   "cell_type": "code",
   "execution_count": null,
   "id": "f4a7b8fc",
   "metadata": {},
   "outputs": [],
   "source": [
    "# with zipfile.ZipFile(os.path.join(results_path, archive_name), \"x\") as zf:\n",
    "#     with zf.open(f\"imputed_bulkified.csv\", \"w\") as buffer:\n",
    "#         bulkified.to_csv(buffer)\n",
    "#     with zf.open(f\"cluster_membership.csv\", \"w\") as buffer:\n",
    "#         cluster_labels.to_csv(buffer)\n",
    "#     with zf.open(f\"PCA.csv\", \"w\") as buffer:\n",
    "#         PCA.to_csv(buffer)\n",
    "#     zf.close()"
   ]
  },
  {
   "cell_type": "code",
   "execution_count": null,
   "id": "99ab0880",
   "metadata": {},
   "outputs": [],
   "source": [
    "# archive = zipfile.ZipFile(os.path.join(results_path, archive_name))\n",
    "# assert all(\n",
    "#         [\n",
    "#             i in archive.namelist()\n",
    "#             for i in [\n",
    "#                 \"imputed_bulkified.csv\",\n",
    "#                 \"cluster_membership.csv\",\n",
    "#                 \"PCA.csv\",\n",
    "#             ]\n",
    "#         ]\n",
    "#     )"
   ]
  }
 ],
 "metadata": {
  "kernelspec": {
   "display_name": "Python 3 (ipykernel)",
   "language": "python",
   "name": "python3"
  },
  "language_info": {
   "codemirror_mode": {
    "name": "ipython",
    "version": 3
   },
   "file_extension": ".py",
   "mimetype": "text/x-python",
   "name": "python",
   "nbconvert_exporter": "python",
   "pygments_lexer": "ipython3",
   "version": "3.10.10"
  }
 },
 "nbformat": 4,
 "nbformat_minor": 5
}
