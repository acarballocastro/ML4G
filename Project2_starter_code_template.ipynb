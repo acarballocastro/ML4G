{
 "cells": [
  {
   "cell_type": "code",
   "execution_count": 1,
   "id": "73bf6dca",
   "metadata": {},
   "outputs": [],
   "source": [
    "import os\n",
    "import zipfile\n",
    "\n",
    "import pandas as pd\n",
    "import numpy as np\n",
    "import matplotlib\n",
    "import matplotlib.pyplot as plt\n",
    "%matplotlib inline\n",
    "\n",
    "# Imputation libraries\n",
    "import scprep # preprocessing\n",
    "import saver\n",
    "import magic\n",
    "\n",
    "from scipy.stats import spearmanr\n",
    "\n",
    "# Clustering libraries\n",
    "from sklearn.manifold import TSNE\n",
    "from sklearn.cluster import KMeans\n",
    "from sklearn.decomposition import PCA\n",
    "from sklearn.preprocessing import LabelEncoder\n",
    "\n",
    "from sklearn.metrics import silhouette_score, adjusted_rand_score, v_measure_score"
   ]
  },
  {
   "cell_type": "markdown",
   "id": "20e76b52",
   "metadata": {},
   "source": [
    "# Step 0: Download the training data"
   ]
  },
  {
   "cell_type": "code",
   "execution_count": 2,
   "id": "4dc0e1f6",
   "metadata": {},
   "outputs": [],
   "source": [
    "path_data = \"data/\"\n",
    "results_path = \"results\"\n",
    "archive_name = \"CarballoCastro_Alba.zip\""
   ]
  },
  {
   "cell_type": "code",
   "execution_count": 3,
   "id": "428ce22e",
   "metadata": {},
   "outputs": [],
   "source": [
    "bulk_pancreas = pd.read_csv(os.path.join(path_data,\"train_data\",\"pancreas_bulk_train.csv\")).set_index(\"level_0\")\n",
    "sc_pancreas = pd.read_csv(os.path.join(path_data,\"train_data\",\"pancreas_sc_train.csv\")).set_index(\"Unnamed: 0\")\n",
    "sc_pancreas_metadata = pd.read_csv(os.path.join(path_data,\"train_data\",\"pancreas_sc_metadata_train.csv\")).set_index(\"Source Name\")\n",
    "\n",
    "sc_pancreas_test = pd.read_csv(os.path.join(path_data,\"test_data\",\"pancreas_sc_test.csv\")).set_index(\"Unnamed: 0\")\n",
    "sc_pancreas_metadata_test = pd.read_csv(os.path.join(path_data,\"test_data\",\"pancreas_sc_metadata_test_wocelltype.csv\")).set_index(\"Source Name\")"
   ]
  },
  {
   "cell_type": "code",
   "execution_count": 4,
   "id": "9bd6c906",
   "metadata": {},
   "outputs": [
    {
     "name": "stdout",
     "output_type": "stream",
     "text": [
      "Number of patients in the train dataset 4\n",
      "Number of genes in the dataset 25453\n",
      "Number of cells in the train dataset 978\n"
     ]
    }
   ],
   "source": [
    "print(f\"Number of patients in the train dataset {bulk_pancreas.shape[1]}\")\n",
    "print(f\"Number of genes in the dataset {bulk_pancreas.shape[0]}\")\n",
    "\n",
    "assert bulk_pancreas.shape[0] == sc_pancreas.shape[0]\n",
    "print(f\"Number of cells in the train dataset {sc_pancreas.shape[1]}\")"
   ]
  },
  {
   "cell_type": "code",
   "execution_count": 5,
   "id": "6c382b33",
   "metadata": {},
   "outputs": [
    {
     "name": "stdout",
     "output_type": "stream",
     "text": [
      "Number of cells in the test dataset 789\n"
     ]
    }
   ],
   "source": [
    "print(f\"Number of cells in the test dataset {sc_pancreas_test.shape[1]}\")"
   ]
  },
  {
   "cell_type": "code",
   "execution_count": 6,
   "id": "bde772cf",
   "metadata": {},
   "outputs": [
    {
     "name": "stdout",
     "output_type": "stream",
     "text": [
      "Number of cells for patient1 is 249\n",
      "Number of cells for patient3 is 219\n",
      "Number of cells for patient2 is 234\n",
      "Number of cells for patient4 is 276\n"
     ]
    }
   ],
   "source": [
    "for patient in sc_pancreas_metadata.Sample.unique():\n",
    "    print(f\"Number of cells for {patient} is {sc_pancreas_metadata[sc_pancreas_metadata.Sample==patient].shape[0]}\")"
   ]
  },
  {
   "cell_type": "code",
   "execution_count": 7,
   "id": "e2027c27",
   "metadata": {},
   "outputs": [
    {
     "name": "stdout",
     "output_type": "stream",
     "text": [
      "There are 2 train patients with type II diabetes mellitus\n",
      "There are 2 train patients with normal\n"
     ]
    }
   ],
   "source": [
    "for dis in sc_pancreas_metadata.Disease.unique():\n",
    "    df = sc_pancreas_metadata[sc_pancreas_metadata.Disease==dis]\n",
    "    print(f\"There are {df.Sample.nunique()} train patients with {dis}\")"
   ]
  },
  {
   "cell_type": "code",
   "execution_count": 32,
   "id": "806c6c0a",
   "metadata": {},
   "outputs": [
    {
     "name": "stdout",
     "output_type": "stream",
     "text": [
      "There are 13 different cell types in the dataset\n",
      "The different cells types are ['acinar cell' 'alpha cell' 'gamma cell' 'delta cell'\n",
      " 'unclassified endocrine cell' 'beta cell' 'ductal cell'\n",
      " 'endothelial cell' 'co-expression cell' 'PSC cell' 'epsilon cell'\n",
      " 'MHC class II cell' 'mast cell']\n"
     ]
    }
   ],
   "source": [
    "print(f\"There are {sc_pancreas_metadata.Celltype.nunique()} different cell types in the dataset\")\n",
    "print(f\"The different cells types are {sc_pancreas_metadata.Celltype.unique()}\")"
   ]
  },
  {
   "cell_type": "code",
   "execution_count": 9,
   "id": "2ee0bc2b",
   "metadata": {},
   "outputs": [
    {
     "name": "stdout",
     "output_type": "stream",
     "text": [
      "Number of cells for patient5 is 203\n",
      "Number of cells for patient7 is 284\n",
      "Number of cells for patient6 is 302\n"
     ]
    }
   ],
   "source": [
    "for patient in sc_pancreas_metadata_test.Sample.unique():\n",
    "    print(f\"Number of cells for {patient} is {sc_pancreas_metadata_test[sc_pancreas_metadata_test.Sample==patient].shape[0]}\")"
   ]
  },
  {
   "cell_type": "code",
   "execution_count": 10,
   "id": "ffd5982d",
   "metadata": {},
   "outputs": [
    {
     "name": "stdout",
     "output_type": "stream",
     "text": [
      "There are 1 test patients with normal\n",
      "There are 2 test patients with type II diabetes mellitus\n"
     ]
    }
   ],
   "source": [
    "for dis in sc_pancreas_metadata_test.Disease.unique():\n",
    "    df = sc_pancreas_metadata_test[sc_pancreas_metadata_test.Disease==dis]\n",
    "    print(f\"There are {df.Sample.nunique()} test patients with {dis}\")"
   ]
  },
  {
   "cell_type": "markdown",
   "id": "9d634db5",
   "metadata": {},
   "source": [
    "# Step 1: Perform the imputation"
   ]
  },
  {
   "attachments": {},
   "cell_type": "markdown",
   "id": "6b7a0205",
   "metadata": {},
   "source": [
    "### Data preprocessing\n",
    "\n",
    "* Filtering: we see that data is prefiltered\n",
    "* Normalization: log transform with pseudocount\n",
    "* Removing unexpressed genes? -> MAGIC recomienda pero según las guidelines no se debe eliminar ningún gen"
   ]
  },
  {
   "cell_type": "code",
   "execution_count": 33,
   "id": "91ee036e",
   "metadata": {},
   "outputs": [
    {
     "name": "stderr",
     "output_type": "stream",
     "text": [
      "/home/acarballocastro/.conda/envs/ML4G_Proj2/lib/python3.10/site-packages/scprep/plot/histogram.py:180: UserWarning: All values for SymLogScale are below linthresh, making it effectively linear. You likely should lower the value of linthresh. \n",
      "  ax.axvline(cutoff, color=\"red\")\n",
      "/home/acarballocastro/.conda/envs/ML4G_Proj2/lib/python3.10/site-packages/scprep/plot/utils.py:104: UserWarning: Matplotlib is currently using module://matplotlib_inline.backend_inline, which is a non-GUI backend, so cannot show the figure.\n",
      "  fig.show()\n"
     ]
    },
    {
     "data": {
      "text/plain": [
       "<Axes: xlabel='Library size', ylabel='Number of cells'>"
      ]
     },
     "execution_count": 33,
     "metadata": {},
     "output_type": "execute_result"
    },
    {
     "data": {
      "image/png": "[encoded data removed]",
      "text/plain": [
       "<Figure size 640x480 with 1 Axes>"
      ]
     },
     "metadata": {},
     "output_type": "display_data"
    }
   ],
   "source": [
    "scprep.plot.plot_library_size(sc_pancreas.transpose(), cutoff=2000)"
   ]
  },
  {
   "cell_type": "code",
   "execution_count": 34,
   "id": "71bfd660",
   "metadata": {},
   "outputs": [],
   "source": [
    "sc_pancreas_norm = scprep.normalize.library_size_normalize(sc_pancreas.transpose())\n",
    "sc_pancreas_norm = scprep.transform.sqrt(sc_pancreas_norm)"
   ]
  },
  {
   "attachments": {},
   "cell_type": "markdown",
   "id": "89b810c9",
   "metadata": {},
   "source": [
    "### Imputation using MAGIC"
   ]
  },
  {
   "cell_type": "code",
   "execution_count": 35,
   "id": "8cac5702",
   "metadata": {},
   "outputs": [],
   "source": [
    "magic_op = magic.MAGIC()"
   ]
  },
  {
   "cell_type": "code",
   "execution_count": 36,
   "id": "b1917e96",
   "metadata": {},
   "outputs": [
    {
     "name": "stdout",
     "output_type": "stream",
     "text": [
      "Calculating MAGIC...\n",
      "  Running MAGIC on 978 cells and 25453 genes.\n",
      "  Calculating graph and diffusion operator...\n",
      "    Calculating PCA...\n"
     ]
    },
    {
     "name": "stderr",
     "output_type": "stream",
     "text": [
      "/home/acarballocastro/.conda/envs/ML4G_Proj2/lib/python3.10/site-packages/magic/magic.py:425: UserWarning: Input matrix contains unexpressed genes. Please remove them prior to running MAGIC.\n",
      "  warnings.warn(\n"
     ]
    },
    {
     "name": "stdout",
     "output_type": "stream",
     "text": [
      "    Calculated PCA in 4.20 seconds.\n",
      "    Calculating KNN search...\n",
      "    Calculated KNN search in 0.09 seconds.\n",
      "    Calculating affinities...\n",
      "    Calculated affinities in 0.06 seconds.\n",
      "  Calculated graph and diffusion operator in 4.40 seconds.\n",
      "  Running MAGIC with `solver='exact'` on 25453-dimensional data may take a long time. Consider denoising specific genes with `genes=<list-like>` or using `solver='approximate'`.\n",
      "  Calculating imputation...\n",
      "  Calculated imputation in 0.34 seconds.\n",
      "Calculated MAGIC in 4.81 seconds.\n"
     ]
    },
    {
     "data": {
      "text/html": [
       "<div>\n",
       "<style scoped>\n",
       "    .dataframe tbody tr th:only-of-type {\n",
       "        vertical-align: middle;\n",
       "    }\n",
       "\n",
       "    .dataframe tbody tr th {\n",
       "        vertical-align: top;\n",
       "    }\n",
       "\n",
       "    .dataframe thead th {\n",
       "        text-align: right;\n",
       "    }\n",
       "</style>\n",
       "<table border=\"1\" class=\"dataframe\">\n",
       "  <thead>\n",
       "    <tr style=\"text-align: right;\">\n",
       "      <th>Unnamed: 0</th>\n",
       "      <th>SGIP1</th>\n",
       "      <th>AZIN2</th>\n",
       "      <th>CLIC4</th>\n",
       "      <th>AGBL4</th>\n",
       "      <th>NECAP2</th>\n",
       "      <th>SLC45A1</th>\n",
       "      <th>TGFBR3</th>\n",
       "      <th>DBT</th>\n",
       "      <th>RFWD2</th>\n",
       "      <th>C1orf21</th>\n",
       "      <th>...</th>\n",
       "      <th>LOC389831</th>\n",
       "      <th>MGC70870</th>\n",
       "      <th>KIR2DS5</th>\n",
       "      <th>KIR2DL5A</th>\n",
       "      <th>KIR3DS1</th>\n",
       "      <th>KIR2DL5B</th>\n",
       "      <th>KIR2DS2</th>\n",
       "      <th>KIR2DS1</th>\n",
       "      <th>KIR2DL2</th>\n",
       "      <th>KIR2DS3</th>\n",
       "    </tr>\n",
       "  </thead>\n",
       "  <tbody>\n",
       "    <tr>\n",
       "      <th>patient1_A10</th>\n",
       "      <td>0.004217</td>\n",
       "      <td>0.008051</td>\n",
       "      <td>0.596396</td>\n",
       "      <td>0.008114</td>\n",
       "      <td>0.647567</td>\n",
       "      <td>0.001047</td>\n",
       "      <td>0.079073</td>\n",
       "      <td>0.284866</td>\n",
       "      <td>0.576984</td>\n",
       "      <td>0.465755</td>\n",
       "      <td>...</td>\n",
       "      <td>0.0</td>\n",
       "      <td>0.0</td>\n",
       "      <td>0.0</td>\n",
       "      <td>0.0</td>\n",
       "      <td>0.0</td>\n",
       "      <td>0.0</td>\n",
       "      <td>0.0</td>\n",
       "      <td>0.0</td>\n",
       "      <td>0.0</td>\n",
       "      <td>0.0</td>\n",
       "    </tr>\n",
       "    <tr>\n",
       "      <th>patient1_A12</th>\n",
       "      <td>0.000000</td>\n",
       "      <td>0.091953</td>\n",
       "      <td>0.074916</td>\n",
       "      <td>0.016077</td>\n",
       "      <td>0.131964</td>\n",
       "      <td>0.028653</td>\n",
       "      <td>0.001888</td>\n",
       "      <td>0.134212</td>\n",
       "      <td>0.122919</td>\n",
       "      <td>0.336861</td>\n",
       "      <td>...</td>\n",
       "      <td>0.0</td>\n",
       "      <td>0.0</td>\n",
       "      <td>0.0</td>\n",
       "      <td>0.0</td>\n",
       "      <td>0.0</td>\n",
       "      <td>0.0</td>\n",
       "      <td>0.0</td>\n",
       "      <td>0.0</td>\n",
       "      <td>0.0</td>\n",
       "      <td>0.0</td>\n",
       "    </tr>\n",
       "    <tr>\n",
       "      <th>patient1_A13</th>\n",
       "      <td>0.158214</td>\n",
       "      <td>0.147542</td>\n",
       "      <td>0.139055</td>\n",
       "      <td>0.107756</td>\n",
       "      <td>0.319797</td>\n",
       "      <td>0.056504</td>\n",
       "      <td>0.001026</td>\n",
       "      <td>0.297012</td>\n",
       "      <td>0.132602</td>\n",
       "      <td>0.185772</td>\n",
       "      <td>...</td>\n",
       "      <td>0.0</td>\n",
       "      <td>0.0</td>\n",
       "      <td>0.0</td>\n",
       "      <td>0.0</td>\n",
       "      <td>0.0</td>\n",
       "      <td>0.0</td>\n",
       "      <td>0.0</td>\n",
       "      <td>0.0</td>\n",
       "      <td>0.0</td>\n",
       "      <td>0.0</td>\n",
       "    </tr>\n",
       "    <tr>\n",
       "      <th>patient1_A15</th>\n",
       "      <td>0.145619</td>\n",
       "      <td>0.125191</td>\n",
       "      <td>0.154204</td>\n",
       "      <td>0.083642</td>\n",
       "      <td>0.334972</td>\n",
       "      <td>0.061000</td>\n",
       "      <td>0.001827</td>\n",
       "      <td>0.334555</td>\n",
       "      <td>0.178080</td>\n",
       "      <td>0.213571</td>\n",
       "      <td>...</td>\n",
       "      <td>0.0</td>\n",
       "      <td>0.0</td>\n",
       "      <td>0.0</td>\n",
       "      <td>0.0</td>\n",
       "      <td>0.0</td>\n",
       "      <td>0.0</td>\n",
       "      <td>0.0</td>\n",
       "      <td>0.0</td>\n",
       "      <td>0.0</td>\n",
       "      <td>0.0</td>\n",
       "    </tr>\n",
       "    <tr>\n",
       "      <th>patient1_A17</th>\n",
       "      <td>0.114202</td>\n",
       "      <td>0.115926</td>\n",
       "      <td>0.118213</td>\n",
       "      <td>0.104742</td>\n",
       "      <td>0.379648</td>\n",
       "      <td>0.063509</td>\n",
       "      <td>0.001977</td>\n",
       "      <td>0.297558</td>\n",
       "      <td>0.264321</td>\n",
       "      <td>0.178597</td>\n",
       "      <td>...</td>\n",
       "      <td>0.0</td>\n",
       "      <td>0.0</td>\n",
       "      <td>0.0</td>\n",
       "      <td>0.0</td>\n",
       "      <td>0.0</td>\n",
       "      <td>0.0</td>\n",
       "      <td>0.0</td>\n",
       "      <td>0.0</td>\n",
       "      <td>0.0</td>\n",
       "      <td>0.0</td>\n",
       "    </tr>\n",
       "  </tbody>\n",
       "</table>\n",
       "<p>5 rows × 25453 columns</p>\n",
       "</div>"
      ],
      "text/plain": [
       "Unnamed: 0       SGIP1     AZIN2     CLIC4     AGBL4    NECAP2   SLC45A1  \\\n",
       "patient1_A10  0.004217  0.008051  0.596396  0.008114  0.647567  0.001047   \n",
       "patient1_A12  0.000000  0.091953  0.074916  0.016077  0.131964  0.028653   \n",
       "patient1_A13  0.158214  0.147542  0.139055  0.107756  0.319797  0.056504   \n",
       "patient1_A15  0.145619  0.125191  0.154204  0.083642  0.334972  0.061000   \n",
       "patient1_A17  0.114202  0.115926  0.118213  0.104742  0.379648  0.063509   \n",
       "\n",
       "Unnamed: 0      TGFBR3       DBT     RFWD2   C1orf21  ...  LOC389831  \\\n",
       "patient1_A10  0.079073  0.284866  0.576984  0.465755  ...        0.0   \n",
       "patient1_A12  0.001888  0.134212  0.122919  0.336861  ...        0.0   \n",
       "patient1_A13  0.001026  0.297012  0.132602  0.185772  ...        0.0   \n",
       "patient1_A15  0.001827  0.334555  0.178080  0.213571  ...        0.0   \n",
       "patient1_A17  0.001977  0.297558  0.264321  0.178597  ...        0.0   \n",
       "\n",
       "Unnamed: 0    MGC70870  KIR2DS5  KIR2DL5A  KIR3DS1  KIR2DL5B  KIR2DS2  \\\n",
       "patient1_A10       0.0      0.0       0.0      0.0       0.0      0.0   \n",
       "patient1_A12       0.0      0.0       0.0      0.0       0.0      0.0   \n",
       "patient1_A13       0.0      0.0       0.0      0.0       0.0      0.0   \n",
       "patient1_A15       0.0      0.0       0.0      0.0       0.0      0.0   \n",
       "patient1_A17       0.0      0.0       0.0      0.0       0.0      0.0   \n",
       "\n",
       "Unnamed: 0    KIR2DS1  KIR2DL2  KIR2DS3  \n",
       "patient1_A10      0.0      0.0      0.0  \n",
       "patient1_A12      0.0      0.0      0.0  \n",
       "patient1_A13      0.0      0.0      0.0  \n",
       "patient1_A15      0.0      0.0      0.0  \n",
       "patient1_A17      0.0      0.0      0.0  \n",
       "\n",
       "[5 rows x 25453 columns]"
      ]
     },
     "execution_count": 36,
     "metadata": {},
     "output_type": "execute_result"
    }
   ],
   "source": [
    "pancreas_magic = magic_op.fit_transform(sc_pancreas_norm)\n",
    "pancreas_magic.head()"
   ]
  },
  {
   "cell_type": "code",
   "execution_count": 37,
   "id": "f9d982ff",
   "metadata": {},
   "outputs": [],
   "source": [
    "bulkified_magic = sc_pancreas_metadata.join(pancreas_magic, on=\"Source Name\").groupby('Sample', as_index=False).mean().transpose().tail(-1)\n",
    "bulkified_magic.columns = [\"patient1\",\"patient2\",\"patient3\",\"patient4\"]\n",
    "bulkified_magic.index = sc_pancreas.index"
   ]
  },
  {
   "attachments": {},
   "cell_type": "markdown",
   "id": "1056a6e4",
   "metadata": {},
   "source": [
    "### Spearman"
   ]
  },
  {
   "cell_type": "code",
   "execution_count": 38,
   "id": "04642369",
   "metadata": {},
   "outputs": [
    {
     "data": {
      "text/plain": [
       "0.9594648966698298"
      ]
     },
     "execution_count": 38,
     "metadata": {},
     "output_type": "execute_result"
    }
   ],
   "source": [
    "# MAGIC\n",
    "corr, pval = spearmanr(bulk_pancreas, bulkified_magic)\n",
    "spearman = corr.mean()\n",
    "spearman"
   ]
  },
  {
   "cell_type": "markdown",
   "id": "131d64a6",
   "metadata": {},
   "source": [
    "# Step 2: Perform clustering "
   ]
  },
  {
   "attachments": {},
   "cell_type": "markdown",
   "id": "e45b1abf",
   "metadata": {},
   "source": [
    "### Clustering on MAGIC transformed data"
   ]
  },
  {
   "cell_type": "code",
   "execution_count": 39,
   "id": "5ee6af42",
   "metadata": {},
   "outputs": [],
   "source": [
    "# Perform t-SNE dimensionality reduction\n",
    "tsne = TSNE(n_components=2, perplexity=30, learning_rate=200, random_state=0)\n",
    "pancreas_tsne = tsne.fit_transform(pancreas_magic)"
   ]
  },
  {
   "cell_type": "code",
   "execution_count": 40,
   "id": "69f73fa2",
   "metadata": {},
   "outputs": [
    {
     "name": "stderr",
     "output_type": "stream",
     "text": [
      "/home/acarballocastro/.conda/envs/ML4G_Proj2/lib/python3.10/site-packages/sklearn/cluster/_kmeans.py:870: FutureWarning: The default value of `n_init` will change from 10 to 'auto' in 1.4. Set the value of `n_init` explicitly to suppress the warning\n",
      "  warnings.warn(\n"
     ]
    }
   ],
   "source": [
    "# Perform K-means clustering\n",
    "kmeans = KMeans(n_clusters=13, random_state=0)\n",
    "clusters = kmeans.fit_predict(pancreas_tsne) + 1 # Ensure clusters are labeled 1-11. 1-indexed"
   ]
  },
  {
   "cell_type": "code",
   "execution_count": 41,
   "id": "aa6f3e19",
   "metadata": {},
   "outputs": [
    {
     "data": {
      "image/png": "[encoded data removed]",
      "text/plain": [
       "<Figure size 640x480 with 1 Axes>"
      ]
     },
     "metadata": {},
     "output_type": "display_data"
    }
   ],
   "source": [
    "# Plot t-SNE visualization with cluster assignments\n",
    "plt.scatter(pancreas_tsne[:,0], pancreas_tsne[:,1], c=clusters)\n",
    "plt.xlabel('t-SNE 1')\n",
    "plt.ylabel('t-SNE 2')\n",
    "plt.show()"
   ]
  },
  {
   "cell_type": "code",
   "execution_count": 42,
   "id": "895c65e0",
   "metadata": {},
   "outputs": [
    {
     "data": {
      "text/html": [
       "<div>\n",
       "<style scoped>\n",
       "    .dataframe tbody tr th:only-of-type {\n",
       "        vertical-align: middle;\n",
       "    }\n",
       "\n",
       "    .dataframe tbody tr th {\n",
       "        vertical-align: top;\n",
       "    }\n",
       "\n",
       "    .dataframe thead th {\n",
       "        text-align: right;\n",
       "    }\n",
       "</style>\n",
       "<table border=\"1\" class=\"dataframe\">\n",
       "  <thead>\n",
       "    <tr style=\"text-align: right;\">\n",
       "      <th></th>\n",
       "      <th>index</th>\n",
       "      <th>cluster</th>\n",
       "    </tr>\n",
       "  </thead>\n",
       "  <tbody>\n",
       "    <tr>\n",
       "      <th>0</th>\n",
       "      <td>patient1_A10</td>\n",
       "      <td>4</td>\n",
       "    </tr>\n",
       "    <tr>\n",
       "      <th>1</th>\n",
       "      <td>patient1_A12</td>\n",
       "      <td>11</td>\n",
       "    </tr>\n",
       "    <tr>\n",
       "      <th>2</th>\n",
       "      <td>patient1_A13</td>\n",
       "      <td>3</td>\n",
       "    </tr>\n",
       "    <tr>\n",
       "      <th>3</th>\n",
       "      <td>patient1_A15</td>\n",
       "      <td>3</td>\n",
       "    </tr>\n",
       "    <tr>\n",
       "      <th>4</th>\n",
       "      <td>patient1_A17</td>\n",
       "      <td>3</td>\n",
       "    </tr>\n",
       "    <tr>\n",
       "      <th>...</th>\n",
       "      <td>...</td>\n",
       "      <td>...</td>\n",
       "    </tr>\n",
       "    <tr>\n",
       "      <th>973</th>\n",
       "      <td>patient4_P5</td>\n",
       "      <td>2</td>\n",
       "    </tr>\n",
       "    <tr>\n",
       "      <th>974</th>\n",
       "      <td>patient4_P6</td>\n",
       "      <td>5</td>\n",
       "    </tr>\n",
       "    <tr>\n",
       "      <th>975</th>\n",
       "      <td>patient4_P7</td>\n",
       "      <td>5</td>\n",
       "    </tr>\n",
       "    <tr>\n",
       "      <th>976</th>\n",
       "      <td>patient4_P8</td>\n",
       "      <td>2</td>\n",
       "    </tr>\n",
       "    <tr>\n",
       "      <th>977</th>\n",
       "      <td>patient4_P9</td>\n",
       "      <td>2</td>\n",
       "    </tr>\n",
       "  </tbody>\n",
       "</table>\n",
       "<p>978 rows × 2 columns</p>\n",
       "</div>"
      ],
      "text/plain": [
       "            index  cluster\n",
       "0    patient1_A10        4\n",
       "1    patient1_A12       11\n",
       "2    patient1_A13        3\n",
       "3    patient1_A15        3\n",
       "4    patient1_A17        3\n",
       "..            ...      ...\n",
       "973   patient4_P5        2\n",
       "974   patient4_P6        5\n",
       "975   patient4_P7        5\n",
       "976   patient4_P8        2\n",
       "977   patient4_P9        2\n",
       "\n",
       "[978 rows x 2 columns]"
      ]
     },
     "execution_count": 42,
     "metadata": {},
     "output_type": "execute_result"
    }
   ],
   "source": [
    "cluster_labels = pd.DataFrame(data = {'index': sc_pancreas.columns, 'cluster': clusters})\n",
    "cluster_labels"
   ]
  },
  {
   "attachments": {},
   "cell_type": "markdown",
   "id": "913525b1",
   "metadata": {},
   "source": [
    "### PCA"
   ]
  },
  {
   "cell_type": "code",
   "execution_count": 43,
   "id": "53e87f3b",
   "metadata": {},
   "outputs": [],
   "source": [
    "pca = PCA(n_components=50)\n",
    "pancreas_pca = pca.fit_transform(pancreas_magic)"
   ]
  },
  {
   "cell_type": "code",
   "execution_count": 44,
   "id": "5205641e",
   "metadata": {},
   "outputs": [
    {
     "name": "stdout",
     "output_type": "stream",
     "text": [
      "Total explained variance: 0.998940728475473\n"
     ]
    }
   ],
   "source": [
    "# Print the explained variance ratio for each principal component\n",
    "# print('Explained variance ratio:', pca.explained_variance_ratio_)\n",
    "\n",
    "# Print the total explained variance\n",
    "print('Total explained variance:', np.sum(pca.explained_variance_ratio_))"
   ]
  },
  {
   "cell_type": "code",
   "execution_count": 45,
   "id": "694cbe64",
   "metadata": {},
   "outputs": [],
   "source": [
    "PCA = pd.DataFrame(data = pancreas_pca, columns = [\"PC\"+str(i+1) for i in range(50)])\n",
    "PCA.insert(loc=0, column='index', value=sc_pancreas.columns)"
   ]
  },
  {
   "attachments": {},
   "cell_type": "markdown",
   "id": "1de94c8d",
   "metadata": {},
   "source": [
    "### Evaluation metrics"
   ]
  },
  {
   "cell_type": "code",
   "execution_count": 46,
   "id": "fc14a015",
   "metadata": {},
   "outputs": [
    {
     "data": {
      "text/plain": [
       "array([ 2,  3, 10, 10, 10, 10,  3, 10,  3,  6, 10,  3,  3,  3, 10,  3, 10,\n",
       "        3,  3, 10, 10,  3, 10, 10, 12, 10, 10,  4,  3,  7,  8,  6,  2, 10,\n",
       "        3,  3,  5,  3,  4,  3, 10,  3,  3,  6,  3, 10,  3,  3, 10, 10, 10,\n",
       "        3,  3, 10, 10, 10,  3,  3,  3, 12,  4,  3,  3, 10, 10,  4,  4, 10,\n",
       "        3, 10,  3,  3,  3,  4,  3, 10,  3, 10, 10, 10,  2,  3, 10,  3, 10,\n",
       "       10,  3, 10,  6,  1,  3, 10, 10,  3,  3,  3,  3,  3,  3,  3, 10,  3,\n",
       "        3,  3, 10,  3,  3,  3, 10, 10, 10, 10, 10, 10,  3,  3,  7,  3,  3,\n",
       "        3,  3,  4, 10,  3,  6,  4,  3,  3, 10,  3, 10, 10,  3,  3,  3,  3,\n",
       "        3,  3,  3,  3,  2, 10,  3,  3,  3,  3,  6,  3,  2,  3,  3,  3, 10,\n",
       "        3, 10, 10,  3, 10,  2,  3,  3,  3,  2, 10,  3,  3,  3,  3,  3, 10,\n",
       "       10,  3,  6, 10,  2, 10,  3,  3,  3,  3,  3, 10,  3,  3,  3,  3,  3,\n",
       "       10,  3,  3,  3,  3,  3,  3,  3,  3, 10,  3,  3,  3,  3,  9,  3,  3,\n",
       "        4,  3,  3,  3, 10,  3,  3,  3, 10,  6,  3,  3,  3,  3,  3,  3,  3,\n",
       "        3, 10,  4,  3,  3,  3,  3,  3, 10,  7,  3, 10,  3,  3, 12,  3, 10,\n",
       "        3,  3,  3,  3,  3,  3, 10,  1,  6,  3, 10,  6,  3,  4,  3,  3,  6,\n",
       "        1,  8,  4, 10,  3,  3,  4,  4,  5,  7,  3,  3,  3, 10,  3,  4, 10,\n",
       "        1,  3,  6, 10,  5, 10,  6,  6,  3,  9, 10,  3,  4, 12, 10,  3,  3,\n",
       "        2,  3,  3,  3,  3,  9,  3,  3,  3,  3, 10,  3,  6,  4, 10,  5, 12,\n",
       "        3,  4,  3,  8,  4, 10,  3,  7,  1, 10,  3,  4,  3,  4,  9, 10,  8,\n",
       "        4, 10,  3,  6,  3,  2,  3,  3,  3,  3,  7,  3,  8,  7,  4,  3,  3,\n",
       "        5,  4,  3,  3, 10,  4,  3,  3,  4,  3,  4,  3,  3,  3,  3,  3, 10,\n",
       "        2,  4,  4, 10,  3,  4,  3,  4,  3,  7,  3,  8,  8, 10,  1,  3,  3,\n",
       "       10,  5,  3,  3,  6,  3,  3,  5,  3,  1,  3,  3,  3,  1,  4,  6,  7,\n",
       "        3,  4,  3, 10,  3,  3, 10,  4,  6,  4,  7,  3,  3,  3,  3,  3,  7,\n",
       "        4, 10,  4,  3,  4, 12, 10,  4, 10,  1,  3,  3,  1, 12,  6,  3,  3,\n",
       "       10,  3,  3,  4, 10,  3,  3,  7,  3,  3,  1,  3, 10,  6,  3,  4, 10,\n",
       "       10,  3,  7,  7,  3,  3,  4,  4, 10, 10,  7, 10,  3,  3,  4,  3,  3,\n",
       "        7,  4, 12,  8,  3,  3,  8,  7,  1,  7, 12,  4,  4,  7,  7,  3,  4,\n",
       "        7,  3,  2,  2,  2,  2,  4,  2,  1,  2,  7,  1, 10,  7,  7, 10, 10,\n",
       "        2,  2,  5,  2,  4,  7,  7, 12,  2,  2,  4,  3,  2,  4,  4,  7,  2,\n",
       "        4,  2,  7,  7,  7,  2,  2,  7,  7, 10,  3, 10,  3,  6,  7,  2,  2,\n",
       "        2,  2, 12,  7,  2,  7,  4,  4,  3,  2,  3,  4,  7,  2,  7,  5,  7,\n",
       "        4,  2,  2,  4,  4,  3,  6,  4,  3,  2,  2,  7,  7,  7,  7,  7,  7,\n",
       "        3,  3,  2,  3,  4, 10,  4,  2,  3,  3,  2,  2,  2, 10,  7,  3,  7,\n",
       "        2,  7,  7,  7,  7, 10,  2,  4,  4,  2, 10,  2, 10,  2, 10,  7,  4,\n",
       "        7,  7,  2,  3,  2,  2,  2,  9,  4,  4,  2,  7,  7,  7,  2,  2,  2,\n",
       "        3,  7,  2,  7,  7,  2,  4,  3,  2,  2,  7,  7, 12,  7,  2,  4, 10,\n",
       "       10,  7,  2,  7,  7,  2,  7,  5, 10,  2,  2,  5,  7,  7,  2,  3,  2,\n",
       "        7,  4,  2,  2,  2,  7,  3,  7,  2,  2,  2,  7,  2, 10,  2,  2,  7,\n",
       "        4,  2,  7,  7,  3,  4,  2,  2,  2,  3,  2,  2,  4,  4,  2,  2,  2,\n",
       "        7,  2,  3,  2,  3,  7,  2,  7,  7,  2,  7,  4,  4,  2,  3,  5,  7,\n",
       "        7,  2,  3,  7,  7,  4,  2,  3,  3,  3,  3,  3,  7, 10,  2,  3,  3,\n",
       "        7,  1, 10,  3,  3,  2,  3,  4,  7,  7,  7,  4,  5,  3,  3,  3,  3,\n",
       "        3,  3,  3,  7,  1,  3,  4,  7,  6,  4,  7,  7,  7,  3,  3,  4,  6,\n",
       "        0,  3,  3,  3,  3,  3,  3,  3,  3,  2,  3,  3,  3,  7,  3,  3,  3,\n",
       "        3,  2,  1,  3,  7,  3,  3,  3,  7,  7,  7,  3,  3,  3,  1,  3,  3,\n",
       "        3,  2,  3,  7,  3,  7,  4, 10,  7,  0,  7,  3,  3,  3,  3,  3,  2,\n",
       "       12,  3,  4,  7,  7,  4,  7,  3,  7,  3,  3,  2,  7,  7,  3, 12,  2,\n",
       "        2,  2,  7,  3,  3, 10,  2,  7,  3,  4,  3, 12,  3,  6, 11,  7,  7,\n",
       "        3,  2,  7, 10,  5,  3,  3,  3,  3,  3,  1,  3,  7,  2,  7,  7,  7,\n",
       "        3,  3,  3,  7,  6,  1,  3,  3,  7,  3,  6,  1,  7,  2,  4,  3,  7,\n",
       "        3,  7,  7,  7,  7,  3,  6,  1,  3,  3,  7,  2,  3,  3,  3,  4,  3,\n",
       "        3,  3,  3,  3,  7, 10,  3,  8,  3,  7,  5,  3,  7,  7,  7,  3,  2,\n",
       "        7,  3,  1,  7,  3,  3,  1,  3,  3,  3,  2,  7,  7,  7,  7,  3,  3,\n",
       "        7, 11,  1,  2,  3,  4,  7,  1,  7,  2,  3,  3,  7,  7,  7,  3,  3,\n",
       "        2,  3,  3,  7,  7,  3,  2,  7,  7, 10,  7,  7,  3,  2,  7,  7,  3,\n",
       "        3,  7,  7,  7,  7,  3,  2,  7,  2,  3,  7,  4,  2,  7,  7,  5,  3,\n",
       "        2,  2,  3, 10,  5,  3,  3,  3,  3])"
      ]
     },
     "execution_count": 46,
     "metadata": {},
     "output_type": "execute_result"
    }
   ],
   "source": [
    "true_labels = LabelEncoder().fit(sc_pancreas_metadata['Celltype'])\n",
    "true_labels = true_labels.transform(sc_pancreas_metadata['Celltype'])\n",
    "true_labels # NO SE PORQUE PERO ESTO ME DA 12 CLASES en vez de 11"
   ]
  },
  {
   "cell_type": "code",
   "execution_count": 47,
   "id": "007d0249",
   "metadata": {},
   "outputs": [
    {
     "name": "stdout",
     "output_type": "stream",
     "text": [
      "Silhouette score: 0.5059448583168437\n",
      "Adjusted Rand Index: 0.4615117748989785\n",
      "V-Measure score: 0.7493939488212988\n",
      "Performance: 0.572283527345707\n"
     ]
    }
   ],
   "source": [
    "ssc = silhouette_score(pancreas_pca, clusters)\n",
    "print('Silhouette score:', ssc)\n",
    "\n",
    "ari = adjusted_rand_score(true_labels, clusters)\n",
    "print('Adjusted Rand Index:', ari)\n",
    "\n",
    "v_measure = v_measure_score(true_labels, clusters)\n",
    "print('V-Measure score:', v_measure)\n",
    "\n",
    "performance = (1/3)*(ssc + ari + v_measure)\n",
    "print('Performance:', performance)"
   ]
  },
  {
   "cell_type": "markdown",
   "id": "652a8830",
   "metadata": {},
   "source": [
    "# Step 3: Predict on the test data"
   ]
  },
  {
   "attachments": {},
   "cell_type": "markdown",
   "id": "630b787c",
   "metadata": {},
   "source": [
    "Cuando decidamos qué tecnicas de imputación y clustering son mejores, hacerlo en los datos de test."
   ]
  },
  {
   "cell_type": "markdown",
   "id": "d2cc8182",
   "metadata": {},
   "source": [
    "# Step 4: Save the required files"
   ]
  },
  {
   "cell_type": "code",
   "execution_count": null,
   "id": "2da285de",
   "metadata": {},
   "outputs": [],
   "source": [
    "# bulkified should be a DataFrame containing the \"bulkified\" version of the imputed data\n",
    "# bulkified.columns = [\"patient5\",\"patient6\",\"patient7\"]\n",
    "# bulkified.index = sc_pancreas_test.index"
   ]
  },
  {
   "cell_type": "code",
   "execution_count": null,
   "id": "0dfefc0e",
   "metadata": {},
   "outputs": [],
   "source": [
    "# assert all(bulkified.columns == [\"index\",\"patient5\",\"patient6\",\"patient7\"])\n",
    "# assert all(bulkified[\"index\"] == sc_pancreas_test.index)"
   ]
  },
  {
   "cell_type": "code",
   "execution_count": null,
   "id": "eec6fdbe",
   "metadata": {},
   "outputs": [],
   "source": [
    "# cluster_labels should be a DataFrame containing the cluster labels for each cell\n",
    "# cluster_labels.columns = [\"index\", \"cluster\"]\n",
    "# cluster_labels[\"index\"] = sc_pancreas_test.columns"
   ]
  },
  {
   "cell_type": "code",
   "execution_count": null,
   "id": "b579f622",
   "metadata": {},
   "outputs": [],
   "source": [
    "# assert all(cluster_labels.columns == [\"index\",\"cluster\"])\n",
    "# assert all(cluster_labels[\"index\"] == sc_pancreas_test.columns)"
   ]
  },
  {
   "cell_type": "code",
   "execution_count": null,
   "id": "74b55afd",
   "metadata": {},
   "outputs": [],
   "source": [
    "# PCA should be a DataFrame containing the coordinates of each cell in the PCA transformed space for the 50 first PCs\n",
    "# PCA.columns = [\"index\", \"PC1\", \"PC2\", ..., \"PC50\"]\n",
    "# PCA[\"index\"] = sc_pancreas_test.columns"
   ]
  },
  {
   "cell_type": "code",
   "execution_count": null,
   "id": "83835eae",
   "metadata": {},
   "outputs": [],
   "source": [
    "# assert all(PCA.columns == [\"index\"] + [\"PC\"+str(i+1) for i in range(50)])\n",
    "# assert all(PCA[\"index\"] == sc_pancreas_test.columns)"
   ]
  },
  {
   "cell_type": "code",
   "execution_count": null,
   "id": "f4a7b8fc",
   "metadata": {},
   "outputs": [],
   "source": [
    "# with zipfile.ZipFile(os.path.join(results_path, archive_name), \"x\") as zf:\n",
    "#     with zf.open(f\"imputed_bulkified.csv\", \"w\") as buffer:\n",
    "#         bulkified.to_csv(buffer)\n",
    "#     with zf.open(f\"cluster_membership.csv\", \"w\") as buffer:\n",
    "#         cluster_labels.to_csv(buffer)\n",
    "#     with zf.open(f\"PCA.csv\", \"w\") as buffer:\n",
    "#         PCA.to_csv(buffer)\n",
    "#     zf.close()"
   ]
  },
  {
   "cell_type": "code",
   "execution_count": null,
   "id": "99ab0880",
   "metadata": {},
   "outputs": [],
   "source": [
    "# archive = zipfile.ZipFile(os.path.join(results_path, archive_name))\n",
    "# assert all(\n",
    "#         [\n",
    "#             i in archive.namelist()\n",
    "#             for i in [\n",
    "#                 \"imputed_bulkified.csv\",\n",
    "#                 \"cluster_membership.csv\",\n",
    "#                 \"PCA.csv\",\n",
    "#             ]\n",
    "#         ]\n",
    "#     )"
   ]
  }
 ],
 "metadata": {
  "kernelspec": {
   "display_name": "ML4G_Proj2",
   "language": "python",
   "name": "python3"
  },
  "language_info": {
   "codemirror_mode": {
    "name": "ipython",
    "version": 3
   },
   "file_extension": ".py",
   "mimetype": "text/x-python",
   "name": "python",
   "nbconvert_exporter": "python",
   "pygments_lexer": "ipython3",
   "version": "3.10.10"
  },
  "vscode": {
   "interpreter": {
    "hash": "de05724856f44136ef3ff83146670974be9737c243544759e45d91084944a041"
   }
  }
 },
 "nbformat": 4,
 "nbformat_minor": 5
}
