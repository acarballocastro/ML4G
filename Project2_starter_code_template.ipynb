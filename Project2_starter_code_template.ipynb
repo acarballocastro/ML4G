{
 "cells": [
  {
   "cell_type": "code",
   "execution_count": 42,
   "id": "73bf6dca",
   "metadata": {},
   "outputs": [],
   "source": [
    "import os\n",
    "import zipfile\n",
    "\n",
    "import pandas as pd\n",
    "import numpy as np\n",
    "import matplotlib\n",
    "import matplotlib.pyplot as plt\n",
    "%matplotlib inline\n",
    "\n",
    "# Imputation libraries\n",
    "import scprep # preprocessing\n",
    "import saver\n",
    "import magic\n",
    "import scanpy\n",
    "\n",
    "from scipy.stats import spearmanr\n",
    "\n",
    "# Clustering libraries\n",
    "from sklearn.manifold import TSNE\n",
    "from sklearn.cluster import KMeans\n",
    "from sklearn.decomposition import PCA\n",
    "from sklearn.preprocessing import LabelEncoder\n",
    "from sklearn.model_selection import train_test_split\n",
    "from sklearn.utils import shuffle\n",
    "\n",
    "from sklearn.metrics import silhouette_score, adjusted_rand_score, v_measure_score"
   ]
  },
  {
   "cell_type": "markdown",
   "id": "20e76b52",
   "metadata": {},
   "source": [
    "# Step 0: Download the training data"
   ]
  },
  {
   "cell_type": "code",
   "execution_count": 43,
   "id": "4dc0e1f6",
   "metadata": {},
   "outputs": [],
   "source": [
    "path_data = \"data/\"\n",
    "results_path = \"results\"\n",
    "archive_name = \"CarballoCastro_Alba.zip\""
   ]
  },
  {
   "cell_type": "code",
   "execution_count": 44,
   "id": "428ce22e",
   "metadata": {},
   "outputs": [],
   "source": [
    "bulk_pancreas = pd.read_csv(os.path.join(path_data,\"train_data\",\"pancreas_bulk_train.csv\")).set_index(\"level_0\")\n",
    "sc_pancreas = pd.read_csv(os.path.join(path_data,\"train_data\",\"pancreas_sc_train.csv\")).set_index(\"Unnamed: 0\")\n",
    "sc_pancreas_metadata = pd.read_csv(os.path.join(path_data,\"train_data\",\"pancreas_sc_metadata_train.csv\")).set_index(\"Source Name\")\n",
    "\n",
    "sc_pancreas_test = pd.read_csv(os.path.join(path_data,\"test_data\",\"pancreas_sc_test.csv\")).set_index(\"Unnamed: 0\")\n",
    "sc_pancreas_metadata_test = pd.read_csv(os.path.join(path_data,\"test_data\",\"pancreas_sc_metadata_test_wocelltype.csv\")).set_index(\"Source Name\")"
   ]
  },
  {
   "cell_type": "code",
   "execution_count": 45,
   "id": "9bd6c906",
   "metadata": {},
   "outputs": [
    {
     "name": "stdout",
     "output_type": "stream",
     "text": [
      "Number of patients in the train dataset 4\n",
      "Number of genes in the dataset 25453\n",
      "Number of cells in the train dataset 978\n"
     ]
    }
   ],
   "source": [
    "print(f\"Number of patients in the train dataset {bulk_pancreas.shape[1]}\")\n",
    "print(f\"Number of genes in the dataset {bulk_pancreas.shape[0]}\")\n",
    "\n",
    "assert bulk_pancreas.shape[0] == sc_pancreas.shape[0]\n",
    "print(f\"Number of cells in the train dataset {sc_pancreas.shape[1]}\")"
   ]
  },
  {
   "cell_type": "code",
   "execution_count": 46,
   "id": "6c382b33",
   "metadata": {},
   "outputs": [
    {
     "name": "stdout",
     "output_type": "stream",
     "text": [
      "Number of cells in the test dataset 789\n"
     ]
    }
   ],
   "source": [
    "print(f\"Number of cells in the test dataset {sc_pancreas_test.shape[1]}\")"
   ]
  },
  {
   "cell_type": "code",
   "execution_count": 47,
   "id": "bde772cf",
   "metadata": {},
   "outputs": [
    {
     "name": "stdout",
     "output_type": "stream",
     "text": [
      "Number of cells for patient1 is 249\n",
      "Number of cells for patient3 is 219\n",
      "Number of cells for patient2 is 234\n",
      "Number of cells for patient4 is 276\n"
     ]
    }
   ],
   "source": [
    "for patient in sc_pancreas_metadata.Sample.unique():\n",
    "    print(f\"Number of cells for {patient} is {sc_pancreas_metadata[sc_pancreas_metadata.Sample==patient].shape[0]}\")"
   ]
  },
  {
   "cell_type": "code",
   "execution_count": 48,
   "id": "e2027c27",
   "metadata": {},
   "outputs": [
    {
     "name": "stdout",
     "output_type": "stream",
     "text": [
      "There are 2 train patients with type II diabetes mellitus\n",
      "There are 2 train patients with normal\n"
     ]
    }
   ],
   "source": [
    "for dis in sc_pancreas_metadata.Disease.unique():\n",
    "    df = sc_pancreas_metadata[sc_pancreas_metadata.Disease==dis]\n",
    "    print(f\"There are {df.Sample.nunique()} train patients with {dis}\")"
   ]
  },
  {
   "cell_type": "code",
   "execution_count": 49,
   "id": "806c6c0a",
   "metadata": {
    "scrolled": true
   },
   "outputs": [
    {
     "name": "stdout",
     "output_type": "stream",
     "text": [
      "There are 13 different cell types in the dataset\n",
      "The different cells types are ['acinar cell' 'alpha cell' 'gamma cell' 'delta cell'\n",
      " 'unclassified endocrine cell' 'beta cell' 'ductal cell'\n",
      " 'endothelial cell' 'co-expression cell' 'PSC cell' 'epsilon cell'\n",
      " 'MHC class II cell' 'mast cell']\n"
     ]
    }
   ],
   "source": [
    "print(f\"There are {sc_pancreas_metadata.Celltype.nunique()} different cell types in the dataset\")\n",
    "print(f\"The different cells types are {sc_pancreas_metadata.Celltype.unique()}\")"
   ]
  },
  {
   "cell_type": "code",
   "execution_count": 50,
   "id": "2ee0bc2b",
   "metadata": {},
   "outputs": [
    {
     "name": "stdout",
     "output_type": "stream",
     "text": [
      "Number of cells for patient5 is 203\n",
      "Number of cells for patient7 is 284\n",
      "Number of cells for patient6 is 302\n"
     ]
    }
   ],
   "source": [
    "for patient in sc_pancreas_metadata_test.Sample.unique():\n",
    "    print(f\"Number of cells for {patient} is {sc_pancreas_metadata_test[sc_pancreas_metadata_test.Sample==patient].shape[0]}\")"
   ]
  },
  {
   "cell_type": "code",
   "execution_count": 51,
   "id": "ffd5982d",
   "metadata": {},
   "outputs": [
    {
     "name": "stdout",
     "output_type": "stream",
     "text": [
      "There are 1 test patients with normal\n",
      "There are 2 test patients with type II diabetes mellitus\n"
     ]
    }
   ],
   "source": [
    "for dis in sc_pancreas_metadata_test.Disease.unique():\n",
    "    df = sc_pancreas_metadata_test[sc_pancreas_metadata_test.Disease==dis]\n",
    "    print(f\"There are {df.Sample.nunique()} test patients with {dis}\")"
   ]
  },
  {
   "cell_type": "code",
   "execution_count": 52,
   "id": "fdcd8b4c",
   "metadata": {},
   "outputs": [],
   "source": [
    "# We will log transform the data \n",
    "sc_pancreas_norm = scprep.transform.log(sc_pancreas)\n",
    "bulk_pancreas_norm = scprep.transform.log(bulk_pancreas)"
   ]
  },
  {
   "cell_type": "code",
   "execution_count": 53,
   "id": "6f485cae",
   "metadata": {},
   "outputs": [],
   "source": [
    "#Create a train and validation set to test out performance\n",
    "\n",
    "sc_pancreas_shuff, bulk_pancreas_shuff= shuffle(sc_pancreas_norm, bulk_pancreas_norm, random_state=42)\n",
    "sc_train, sc_val, bulk_train, bulk_val = train_test_split(sc_pancreas_shuff, bulk_pancreas_shuff, random_state=42, test_size= 0.2)\n"
   ]
  },
  {
   "cell_type": "code",
   "execution_count": 54,
   "id": "ad10b59e",
   "metadata": {},
   "outputs": [
    {
     "name": "stdout",
     "output_type": "stream",
     "text": [
      "Train shape for single cell is (20362, 978)\n",
      "Validation shape for single cell is (5091, 978)\n",
      "Train shape for bulk is (20362, 4)\n",
      "Validation shape for bulk cell is (5091, 4)\n"
     ]
    }
   ],
   "source": [
    "print(f'Train shape for single cell is {sc_train.shape}')\n",
    "print(f'Validation shape for single cell is {sc_val.shape}')\n",
    "print(f'Train shape for bulk is {bulk_train.shape}')\n",
    "print(f'Validation shape for bulk cell is {bulk_val.shape}')"
   ]
  },
  {
   "cell_type": "code",
   "execution_count": 55,
   "id": "c99c556d",
   "metadata": {},
   "outputs": [],
   "source": [
    "#Check if we have genes with the same name\n",
    "index = sc_train.index\n",
    "unique_genes = index.unique\n"
   ]
  },
  {
   "cell_type": "markdown",
   "id": "9d634db5",
   "metadata": {},
   "source": [
    "# Step 1: Perform the imputation"
   ]
  },
  {
   "cell_type": "markdown",
   "id": "6b7a0205",
   "metadata": {},
   "source": [
    "### Data preprocessing\n",
    "\n",
    "* Filtering: we see that data is prefiltered\n",
    "* Normalization: log transform with pseudocount\n",
    "* Removing unexpressed genes? -> MAGIC recomienda pero según las guidelines no se debe eliminar ningún gen"
   ]
  },
  {
   "cell_type": "code",
   "execution_count": 56,
   "id": "91ee036e",
   "metadata": {},
   "outputs": [
    {
     "data": {
      "text/plain": [
       "<Axes: xlabel='Library size', ylabel='Number of cells'>"
      ]
     },
     "execution_count": 56,
     "metadata": {},
     "output_type": "execute_result"
    },
    {
     "data": {
      "image/png": "[encoded data removed]",
      "text/plain": [
       "<Figure size 640x480 with 1 Axes>"
      ]
     },
     "metadata": {},
     "output_type": "display_data"
    }
   ],
   "source": [
    "scprep.plot.plot_library_size(sc_train.transpose(), cutoff=5000)"
   ]
  },
  {
   "cell_type": "code",
   "execution_count": 57,
   "id": "7b37d23d",
   "metadata": {},
   "outputs": [
    {
     "name": "stdout",
     "output_type": "stream",
     "text": [
      "(20362, 978)\n"
     ]
    }
   ],
   "source": [
    "print(sc_train.shape)"
   ]
  },
  {
   "cell_type": "code",
   "execution_count": 58,
   "id": "71bfd660",
   "metadata": {},
   "outputs": [],
   "source": [
    "#sc_pancreas_norm = scprep.normalize.library_size_normalize(sc_pancreas.transpose())\n",
    "#sc_pancreas_norm = scprep.transform.sqrt(sc_pancreas_norm)"
   ]
  },
  {
   "cell_type": "code",
   "execution_count": 59,
   "id": "785f76a4",
   "metadata": {},
   "outputs": [],
   "source": [
    "#We will log-transform our data as they evaluate on this kind of data\n",
    "#sc_train_norm =\n",
    "\n"
   ]
  },
  {
   "cell_type": "markdown",
   "id": "89b810c9",
   "metadata": {},
   "source": [
    "### Imputation using MAGIC"
   ]
  },
  {
   "cell_type": "code",
   "execution_count": 60,
   "id": "8cac5702",
   "metadata": {},
   "outputs": [],
   "source": [
    "magic_op = magic.MAGIC()"
   ]
  },
  {
   "cell_type": "code",
   "execution_count": 61,
   "id": "b1917e96",
   "metadata": {},
   "outputs": [
    {
     "name": "stdout",
     "output_type": "stream",
     "text": [
      "Calculating MAGIC...\n",
      "  Running MAGIC on 978 cells and 20362 genes.\n",
      "  Calculating graph and diffusion operator...\n",
      "    Calculating PCA...\n"
     ]
    },
    {
     "name": "stderr",
     "output_type": "stream",
     "text": [
      "/home/pballesteros/miniconda3/envs/ML4G_Proj2/lib/python3.10/site-packages/magic/magic.py:425: UserWarning: Input matrix contains unexpressed genes. Please remove them prior to running MAGIC.\n",
      "  warnings.warn(\n"
     ]
    },
    {
     "name": "stdout",
     "output_type": "stream",
     "text": [
      "    Calculated PCA in 2.69 seconds.\n",
      "    Calculating KNN search...\n",
      "    Calculated KNN search in 0.12 seconds.\n",
      "    Calculating affinities...\n",
      "    Calculated affinities in 0.07 seconds.\n",
      "  Calculated graph and diffusion operator in 2.94 seconds.\n",
      "  Running MAGIC with `solver='exact'` on 20362-dimensional data may take a long time. Consider denoising specific genes with `genes=<list-like>` or using `solver='approximate'`.\n",
      "  Calculating imputation...\n",
      "  Calculated imputation in 0.28 seconds.\n",
      "Calculated MAGIC in 3.31 seconds.\n"
     ]
    }
   ],
   "source": [
    "train_magic = magic_op.fit_transform(sc_train.transpose())"
   ]
  },
  {
   "cell_type": "code",
   "execution_count": 62,
   "id": "e9ee92f6",
   "metadata": {},
   "outputs": [
    {
     "name": "stdout",
     "output_type": "stream",
     "text": [
      "Calculating imputation...\n"
     ]
    },
    {
     "name": "stderr",
     "output_type": "stream",
     "text": [
      "/home/pballesteros/miniconda3/envs/ML4G_Proj2/lib/python3.10/site-packages/magic/magic.py:541: UserWarning: Running MAGIC.transform on different data to that which was used for MAGIC.fit may not produce sensible output, unless it comes from the same manifold.\n",
      "  warnings.warn(\n"
     ]
    },
    {
     "name": "stdout",
     "output_type": "stream",
     "text": [
      "Calculated imputation in 0.25 seconds.\n"
     ]
    }
   ],
   "source": [
    "val_magic = magic_op.transform(sc_val.transpose())"
   ]
  },
  {
   "cell_type": "code",
   "execution_count": 63,
   "id": "9cffca55",
   "metadata": {},
   "outputs": [
    {
     "data": {
      "text/html": [
       "<div>\n",
       "<style scoped>\n",
       "    .dataframe tbody tr th:only-of-type {\n",
       "        vertical-align: middle;\n",
       "    }\n",
       "\n",
       "    .dataframe tbody tr th {\n",
       "        vertical-align: top;\n",
       "    }\n",
       "\n",
       "    .dataframe thead th {\n",
       "        text-align: right;\n",
       "    }\n",
       "</style>\n",
       "<table border=\"1\" class=\"dataframe\">\n",
       "  <thead>\n",
       "    <tr style=\"text-align: right;\">\n",
       "      <th></th>\n",
       "      <th>Sample</th>\n",
       "      <th>Disease</th>\n",
       "      <th>Celltype</th>\n",
       "    </tr>\n",
       "    <tr>\n",
       "      <th>Source Name</th>\n",
       "      <th></th>\n",
       "      <th></th>\n",
       "      <th></th>\n",
       "    </tr>\n",
       "  </thead>\n",
       "  <tbody>\n",
       "    <tr>\n",
       "      <th>patient1_A10</th>\n",
       "      <td>patient1</td>\n",
       "      <td>type II diabetes mellitus</td>\n",
       "      <td>acinar cell</td>\n",
       "    </tr>\n",
       "    <tr>\n",
       "      <th>patient1_A12</th>\n",
       "      <td>patient1</td>\n",
       "      <td>type II diabetes mellitus</td>\n",
       "      <td>alpha cell</td>\n",
       "    </tr>\n",
       "    <tr>\n",
       "      <th>patient1_A13</th>\n",
       "      <td>patient1</td>\n",
       "      <td>type II diabetes mellitus</td>\n",
       "      <td>gamma cell</td>\n",
       "    </tr>\n",
       "    <tr>\n",
       "      <th>patient1_A15</th>\n",
       "      <td>patient1</td>\n",
       "      <td>type II diabetes mellitus</td>\n",
       "      <td>gamma cell</td>\n",
       "    </tr>\n",
       "    <tr>\n",
       "      <th>patient1_A17</th>\n",
       "      <td>patient1</td>\n",
       "      <td>type II diabetes mellitus</td>\n",
       "      <td>gamma cell</td>\n",
       "    </tr>\n",
       "  </tbody>\n",
       "</table>\n",
       "</div>"
      ],
      "text/plain": [
       "                Sample                    Disease     Celltype\n",
       "Source Name                                                   \n",
       "patient1_A10  patient1  type II diabetes mellitus  acinar cell\n",
       "patient1_A12  patient1  type II diabetes mellitus   alpha cell\n",
       "patient1_A13  patient1  type II diabetes mellitus   gamma cell\n",
       "patient1_A15  patient1  type II diabetes mellitus   gamma cell\n",
       "patient1_A17  patient1  type II diabetes mellitus   gamma cell"
      ]
     },
     "execution_count": 63,
     "metadata": {},
     "output_type": "execute_result"
    }
   ],
   "source": [
    "sc_pancreas_metadata.head()"
   ]
  },
  {
   "cell_type": "code",
   "execution_count": 64,
   "id": "98aff95d",
   "metadata": {},
   "outputs": [
    {
     "data": {
      "text/html": [
       "<div>\n",
       "<style scoped>\n",
       "    .dataframe tbody tr th:only-of-type {\n",
       "        vertical-align: middle;\n",
       "    }\n",
       "\n",
       "    .dataframe tbody tr th {\n",
       "        vertical-align: top;\n",
       "    }\n",
       "\n",
       "    .dataframe thead th {\n",
       "        text-align: right;\n",
       "    }\n",
       "</style>\n",
       "<table border=\"1\" class=\"dataframe\">\n",
       "  <thead>\n",
       "    <tr style=\"text-align: right;\">\n",
       "      <th>Unnamed: 0</th>\n",
       "      <th>NALCN</th>\n",
       "      <th>GUCY1A2</th>\n",
       "      <th>MCM8</th>\n",
       "      <th>PIP4K2A</th>\n",
       "      <th>LINC00898</th>\n",
       "      <th>TSPYL2</th>\n",
       "      <th>DEFA8P</th>\n",
       "      <th>ITPKA</th>\n",
       "      <th>GATA5</th>\n",
       "      <th>GPR75</th>\n",
       "      <th>...</th>\n",
       "      <th>ITGA5</th>\n",
       "      <th>SYCP1</th>\n",
       "      <th>A1BG-AS1</th>\n",
       "      <th>CT47A1</th>\n",
       "      <th>RAE1</th>\n",
       "      <th>C1orf94</th>\n",
       "      <th>GSN</th>\n",
       "      <th>PGM2L1</th>\n",
       "      <th>NUDT16L1</th>\n",
       "      <th>ANKRD20A19P</th>\n",
       "    </tr>\n",
       "  </thead>\n",
       "  <tbody>\n",
       "    <tr>\n",
       "      <th>patient1_A10</th>\n",
       "      <td>0.033799</td>\n",
       "      <td>0.019650</td>\n",
       "      <td>0.154225</td>\n",
       "      <td>1.144430</td>\n",
       "      <td>0.0</td>\n",
       "      <td>0.496676</td>\n",
       "      <td>0.0</td>\n",
       "      <td>0.126979</td>\n",
       "      <td>0.0</td>\n",
       "      <td>0.065716</td>\n",
       "      <td>...</td>\n",
       "      <td>0.426418</td>\n",
       "      <td>0.000000</td>\n",
       "      <td>0.019855</td>\n",
       "      <td>0.0</td>\n",
       "      <td>0.880038</td>\n",
       "      <td>0.000839</td>\n",
       "      <td>1.908237</td>\n",
       "      <td>1.477253</td>\n",
       "      <td>1.306711</td>\n",
       "      <td>0.000000</td>\n",
       "    </tr>\n",
       "    <tr>\n",
       "      <th>patient1_A12</th>\n",
       "      <td>0.331301</td>\n",
       "      <td>0.006691</td>\n",
       "      <td>0.096464</td>\n",
       "      <td>0.338620</td>\n",
       "      <td>0.0</td>\n",
       "      <td>1.040646</td>\n",
       "      <td>0.0</td>\n",
       "      <td>0.000062</td>\n",
       "      <td>0.0</td>\n",
       "      <td>0.317245</td>\n",
       "      <td>...</td>\n",
       "      <td>0.009860</td>\n",
       "      <td>0.001959</td>\n",
       "      <td>0.115942</td>\n",
       "      <td>0.0</td>\n",
       "      <td>0.805533</td>\n",
       "      <td>0.000000</td>\n",
       "      <td>0.770576</td>\n",
       "      <td>0.096158</td>\n",
       "      <td>1.242831</td>\n",
       "      <td>0.006385</td>\n",
       "    </tr>\n",
       "    <tr>\n",
       "      <th>patient1_A13</th>\n",
       "      <td>0.624642</td>\n",
       "      <td>0.001043</td>\n",
       "      <td>0.085516</td>\n",
       "      <td>0.177040</td>\n",
       "      <td>0.0</td>\n",
       "      <td>1.049276</td>\n",
       "      <td>0.0</td>\n",
       "      <td>0.000023</td>\n",
       "      <td>0.0</td>\n",
       "      <td>0.402714</td>\n",
       "      <td>...</td>\n",
       "      <td>0.004264</td>\n",
       "      <td>0.000070</td>\n",
       "      <td>0.120438</td>\n",
       "      <td>0.0</td>\n",
       "      <td>0.731091</td>\n",
       "      <td>0.000000</td>\n",
       "      <td>1.371877</td>\n",
       "      <td>0.238182</td>\n",
       "      <td>1.129052</td>\n",
       "      <td>0.008644</td>\n",
       "    </tr>\n",
       "    <tr>\n",
       "      <th>patient1_A15</th>\n",
       "      <td>0.632395</td>\n",
       "      <td>0.000699</td>\n",
       "      <td>0.077899</td>\n",
       "      <td>0.174479</td>\n",
       "      <td>0.0</td>\n",
       "      <td>1.002442</td>\n",
       "      <td>0.0</td>\n",
       "      <td>0.000010</td>\n",
       "      <td>0.0</td>\n",
       "      <td>0.339703</td>\n",
       "      <td>...</td>\n",
       "      <td>0.003731</td>\n",
       "      <td>0.000080</td>\n",
       "      <td>0.112542</td>\n",
       "      <td>0.0</td>\n",
       "      <td>0.672897</td>\n",
       "      <td>0.000000</td>\n",
       "      <td>1.357011</td>\n",
       "      <td>0.235190</td>\n",
       "      <td>1.086107</td>\n",
       "      <td>0.006507</td>\n",
       "    </tr>\n",
       "    <tr>\n",
       "      <th>patient1_A17</th>\n",
       "      <td>0.581366</td>\n",
       "      <td>0.000905</td>\n",
       "      <td>0.089602</td>\n",
       "      <td>0.169411</td>\n",
       "      <td>0.0</td>\n",
       "      <td>0.959081</td>\n",
       "      <td>0.0</td>\n",
       "      <td>0.000006</td>\n",
       "      <td>0.0</td>\n",
       "      <td>0.323665</td>\n",
       "      <td>...</td>\n",
       "      <td>0.006347</td>\n",
       "      <td>0.000384</td>\n",
       "      <td>0.092764</td>\n",
       "      <td>0.0</td>\n",
       "      <td>0.685352</td>\n",
       "      <td>0.000000</td>\n",
       "      <td>1.197667</td>\n",
       "      <td>0.239276</td>\n",
       "      <td>1.020920</td>\n",
       "      <td>0.005899</td>\n",
       "    </tr>\n",
       "  </tbody>\n",
       "</table>\n",
       "<p>5 rows × 20362 columns</p>\n",
       "</div>"
      ],
      "text/plain": [
       "Unnamed: 0       NALCN   GUCY1A2      MCM8   PIP4K2A  LINC00898    TSPYL2  \\\n",
       "patient1_A10  0.033799  0.019650  0.154225  1.144430        0.0  0.496676   \n",
       "patient1_A12  0.331301  0.006691  0.096464  0.338620        0.0  1.040646   \n",
       "patient1_A13  0.624642  0.001043  0.085516  0.177040        0.0  1.049276   \n",
       "patient1_A15  0.632395  0.000699  0.077899  0.174479        0.0  1.002442   \n",
       "patient1_A17  0.581366  0.000905  0.089602  0.169411        0.0  0.959081   \n",
       "\n",
       "Unnamed: 0    DEFA8P     ITPKA  GATA5     GPR75  ...     ITGA5     SYCP1  \\\n",
       "patient1_A10     0.0  0.126979    0.0  0.065716  ...  0.426418  0.000000   \n",
       "patient1_A12     0.0  0.000062    0.0  0.317245  ...  0.009860  0.001959   \n",
       "patient1_A13     0.0  0.000023    0.0  0.402714  ...  0.004264  0.000070   \n",
       "patient1_A15     0.0  0.000010    0.0  0.339703  ...  0.003731  0.000080   \n",
       "patient1_A17     0.0  0.000006    0.0  0.323665  ...  0.006347  0.000384   \n",
       "\n",
       "Unnamed: 0    A1BG-AS1  CT47A1      RAE1   C1orf94       GSN    PGM2L1  \\\n",
       "patient1_A10  0.019855     0.0  0.880038  0.000839  1.908237  1.477253   \n",
       "patient1_A12  0.115942     0.0  0.805533  0.000000  0.770576  0.096158   \n",
       "patient1_A13  0.120438     0.0  0.731091  0.000000  1.371877  0.238182   \n",
       "patient1_A15  0.112542     0.0  0.672897  0.000000  1.357011  0.235190   \n",
       "patient1_A17  0.092764     0.0  0.685352  0.000000  1.197667  0.239276   \n",
       "\n",
       "Unnamed: 0    NUDT16L1  ANKRD20A19P  \n",
       "patient1_A10  1.306711     0.000000  \n",
       "patient1_A12  1.242831     0.006385  \n",
       "patient1_A13  1.129052     0.008644  \n",
       "patient1_A15  1.086107     0.006507  \n",
       "patient1_A17  1.020920     0.005899  \n",
       "\n",
       "[5 rows x 20362 columns]"
      ]
     },
     "execution_count": 64,
     "metadata": {},
     "output_type": "execute_result"
    }
   ],
   "source": [
    "train_magic.head()"
   ]
  },
  {
   "cell_type": "code",
   "execution_count": 65,
   "id": "eeb1771e",
   "metadata": {},
   "outputs": [
    {
     "data": {
      "text/html": [
       "<div>\n",
       "<style scoped>\n",
       "    .dataframe tbody tr th:only-of-type {\n",
       "        vertical-align: middle;\n",
       "    }\n",
       "\n",
       "    .dataframe tbody tr th {\n",
       "        vertical-align: top;\n",
       "    }\n",
       "\n",
       "    .dataframe thead th {\n",
       "        text-align: right;\n",
       "    }\n",
       "</style>\n",
       "<table border=\"1\" class=\"dataframe\">\n",
       "  <thead>\n",
       "    <tr style=\"text-align: right;\">\n",
       "      <th></th>\n",
       "      <th>patient1</th>\n",
       "      <th>patient2</th>\n",
       "      <th>patient3</th>\n",
       "      <th>patient4</th>\n",
       "    </tr>\n",
       "    <tr>\n",
       "      <th>level_0</th>\n",
       "      <th></th>\n",
       "      <th></th>\n",
       "      <th></th>\n",
       "      <th></th>\n",
       "    </tr>\n",
       "  </thead>\n",
       "  <tbody>\n",
       "    <tr>\n",
       "      <th>NALCN</th>\n",
       "      <td>3.127105</td>\n",
       "      <td>3.012837</td>\n",
       "      <td>3.242790</td>\n",
       "      <td>3.132260</td>\n",
       "    </tr>\n",
       "    <tr>\n",
       "      <th>GUCY1A2</th>\n",
       "      <td>2.674861</td>\n",
       "      <td>2.484300</td>\n",
       "      <td>2.781755</td>\n",
       "      <td>2.505150</td>\n",
       "    </tr>\n",
       "    <tr>\n",
       "      <th>MCM8</th>\n",
       "      <td>2.374748</td>\n",
       "      <td>2.396199</td>\n",
       "      <td>2.416641</td>\n",
       "      <td>2.523746</td>\n",
       "    </tr>\n",
       "    <tr>\n",
       "      <th>PIP4K2A</th>\n",
       "      <td>2.833147</td>\n",
       "      <td>2.889302</td>\n",
       "      <td>2.862728</td>\n",
       "      <td>3.112605</td>\n",
       "    </tr>\n",
       "    <tr>\n",
       "      <th>LINC00898</th>\n",
       "      <td>0.000000</td>\n",
       "      <td>0.000000</td>\n",
       "      <td>0.000000</td>\n",
       "      <td>0.000000</td>\n",
       "    </tr>\n",
       "  </tbody>\n",
       "</table>\n",
       "</div>"
      ],
      "text/plain": [
       "           patient1  patient2  patient3  patient4\n",
       "level_0                                          \n",
       "NALCN      3.127105  3.012837  3.242790  3.132260\n",
       "GUCY1A2    2.674861  2.484300  2.781755  2.505150\n",
       "MCM8       2.374748  2.396199  2.416641  2.523746\n",
       "PIP4K2A    2.833147  2.889302  2.862728  3.112605\n",
       "LINC00898  0.000000  0.000000  0.000000  0.000000"
      ]
     },
     "execution_count": 65,
     "metadata": {},
     "output_type": "execute_result"
    }
   ],
   "source": [
    "bulk_train.head()"
   ]
  },
  {
   "cell_type": "code",
   "execution_count": 66,
   "id": "f6100932",
   "metadata": {},
   "outputs": [],
   "source": [
    "#We will create the bulkified matrix to compare the bulk with the imputed data.\n",
    "#In the bulk matrix we just have one measurement per patient per gene. \n",
    "#In the sc data we need to compute the average over each cell for each patient and gene\n",
    "assert sc_pancreas_metadata.shape[0] == train_magic.shape[0]\n",
    "train_merged = sc_pancreas_metadata.join(train_magic, on='Source Name')\n",
    "train_bulkified = train_merged.groupby('Sample', as_index= False).mean().transpose().tail(-1)\n",
    "train_bulkified.columns = [\"patient1\",\"patient2\",\"patient3\",\"patient4\"]\n",
    "train_bulkified.index = sc_train.index \n",
    "\n",
    "#We bulkify also the validation dataset\n",
    "val_merged = sc_pancreas_metadata.join(val_magic, on= 'Source Name')\n",
    "val_bulkified = val_merged.groupby('Sample', as_index=False).mean().transpose().tail(-1)\n",
    "val_bulkified.columns = [\"patient1\",\"patient2\",\"patient3\",\"patient4\"]\n",
    "val_bulkified.index = sc_val.index "
   ]
  },
  {
   "cell_type": "code",
   "execution_count": 67,
   "id": "0185780c",
   "metadata": {},
   "outputs": [
    {
     "name": "stdout",
     "output_type": "stream",
     "text": [
      "Train bulkified matrix shape is : (20362, 4)\n",
      "Train bulk matrix shape is : (20362, 4)\n"
     ]
    }
   ],
   "source": [
    "print(f'Train bulkified matrix shape is : {train_bulkified.shape}')\n",
    "print(f'Train bulk matrix shape is : {bulk_train.shape}')"
   ]
  },
  {
   "cell_type": "code",
   "execution_count": 68,
   "id": "6df82066",
   "metadata": {},
   "outputs": [
    {
     "name": "stdout",
     "output_type": "stream",
     "text": [
      "Validation bulkified matrix shape is : (5091, 4)\n",
      "Validation bulk matrix shape is : (5091, 4)\n"
     ]
    }
   ],
   "source": [
    "print(f'Validation bulkified matrix shape is : {val_bulkified.shape}')\n",
    "print(f'Validation bulk matrix shape is : {bulk_val.shape}')"
   ]
  },
  {
   "cell_type": "code",
   "execution_count": 69,
   "id": "f9d982ff",
   "metadata": {},
   "outputs": [],
   "source": [
    "#bulkified_magic = sc_pancreas_metadata.join(pancreas_magic, on=\"Source Name\").groupby('Sample', as_index=False).mean().transpose().tail(-1)\n",
    "#bulkified_magic.columns = [\"patient1\",\"patient2\",\"patient3\",\"patient4\"]\n",
    "#bulkified_magic.index = sc_pancreas.index"
   ]
  },
  {
   "cell_type": "markdown",
   "id": "1056a6e4",
   "metadata": {},
   "source": [
    "### Spearman"
   ]
  },
  {
   "cell_type": "code",
   "execution_count": 70,
   "id": "04642369",
   "metadata": {},
   "outputs": [
    {
     "name": "stdout",
     "output_type": "stream",
     "text": [
      "Spearman correlation for train is 0.9584617688692529\n",
      "Spearman correlation for validation is 0.9570258871973059\n"
     ]
    }
   ],
   "source": [
    "# MAGIC\n",
    "corr, pval = spearmanr(bulk_train, train_bulkified)\n",
    "spearman = corr.mean()\n",
    "print(f'Spearman correlation for train is {spearman}')\n",
    "\n",
    "corr_val, pval_val = spearmanr(bulk_val, val_bulkified)\n",
    "spearman_val = corr_val.mean()\n",
    "print(f'Spearman correlation for validation is {spearman_val}')"
   ]
  },
  {
   "cell_type": "code",
   "execution_count": null,
   "id": "4885bea9",
   "metadata": {},
   "outputs": [],
   "source": [
    "#TODO: train magic with all the train data, predict on test and provide the file in the final format\n",
    "#We need to log transform the data"
   ]
  },
  {
   "cell_type": "markdown",
   "id": "131d64a6",
   "metadata": {},
   "source": [
    "# Step 2: Perform clustering "
   ]
  },
  {
   "cell_type": "markdown",
   "id": "e45b1abf",
   "metadata": {},
   "source": [
    "### Clustering on MAGIC transformed data"
   ]
  },
  {
   "cell_type": "code",
   "execution_count": 17,
   "id": "5ee6af42",
   "metadata": {},
   "outputs": [],
   "source": [
    "# Perform t-SNE dimensionality reduction\n",
    "tsne = TSNE(n_components=2, perplexity=30, learning_rate=200, random_state=0)\n",
    "pancreas_tsne = tsne.fit_transform(sc_pancreas_norm)"
   ]
  },
  {
   "cell_type": "code",
   "execution_count": 18,
   "id": "69f73fa2",
   "metadata": {},
   "outputs": [
    {
     "name": "stderr",
     "output_type": "stream",
     "text": [
      "/home/acarballocastro/.conda/envs/ML4G_Proj2/lib/python3.10/site-packages/sklearn/cluster/_kmeans.py:870: FutureWarning: The default value of `n_init` will change from 10 to 'auto' in 1.4. Set the value of `n_init` explicitly to suppress the warning\n",
      "  warnings.warn(\n"
     ]
    }
   ],
   "source": [
    "# Perform K-means clustering\n",
    "kmeans = KMeans(n_clusters=13, random_state=0)\n",
    "clusters = kmeans.fit_predict(sc_pancreas_norm) + 1 # Ensure clusters are labeled 1-11. 1-indexed"
   ]
  },
  {
   "cell_type": "code",
   "execution_count": 19,
   "id": "aa6f3e19",
   "metadata": {},
   "outputs": [
    {
     "data": {
      "image/png": "[encoded data removed]",
      "text/plain": [
       "<Figure size 640x480 with 1 Axes>"
      ]
     },
     "metadata": {},
     "output_type": "display_data"
    }
   ],
   "source": [
    "# Plot t-SNE visualization with cluster assignments\n",
    "plt.scatter(pancreas_tsne[:,0], pancreas_tsne[:,1], c=clusters)\n",
    "plt.xlabel('t-SNE 1')\n",
    "plt.ylabel('t-SNE 2')\n",
    "plt.show()"
   ]
  },
  {
   "cell_type": "code",
   "execution_count": 20,
   "id": "895c65e0",
   "metadata": {},
   "outputs": [
    {
     "data": {
      "text/html": [
       "<div>\n",
       "<style scoped>\n",
       "    .dataframe tbody tr th:only-of-type {\n",
       "        vertical-align: middle;\n",
       "    }\n",
       "\n",
       "    .dataframe tbody tr th {\n",
       "        vertical-align: top;\n",
       "    }\n",
       "\n",
       "    .dataframe thead th {\n",
       "        text-align: right;\n",
       "    }\n",
       "</style>\n",
       "<table border=\"1\" class=\"dataframe\">\n",
       "  <thead>\n",
       "    <tr style=\"text-align: right;\">\n",
       "      <th></th>\n",
       "      <th>index</th>\n",
       "      <th>cluster</th>\n",
       "    </tr>\n",
       "  </thead>\n",
       "  <tbody>\n",
       "    <tr>\n",
       "      <th>0</th>\n",
       "      <td>patient1_A10</td>\n",
       "      <td>2</td>\n",
       "    </tr>\n",
       "    <tr>\n",
       "      <th>1</th>\n",
       "      <td>patient1_A12</td>\n",
       "      <td>11</td>\n",
       "    </tr>\n",
       "    <tr>\n",
       "      <th>2</th>\n",
       "      <td>patient1_A13</td>\n",
       "      <td>6</td>\n",
       "    </tr>\n",
       "    <tr>\n",
       "      <th>3</th>\n",
       "      <td>patient1_A15</td>\n",
       "      <td>6</td>\n",
       "    </tr>\n",
       "    <tr>\n",
       "      <th>4</th>\n",
       "      <td>patient1_A17</td>\n",
       "      <td>6</td>\n",
       "    </tr>\n",
       "    <tr>\n",
       "      <th>...</th>\n",
       "      <td>...</td>\n",
       "      <td>...</td>\n",
       "    </tr>\n",
       "    <tr>\n",
       "      <th>973</th>\n",
       "      <td>patient4_P5</td>\n",
       "      <td>8</td>\n",
       "    </tr>\n",
       "    <tr>\n",
       "      <th>974</th>\n",
       "      <td>patient4_P6</td>\n",
       "      <td>8</td>\n",
       "    </tr>\n",
       "    <tr>\n",
       "      <th>975</th>\n",
       "      <td>patient4_P7</td>\n",
       "      <td>8</td>\n",
       "    </tr>\n",
       "    <tr>\n",
       "      <th>976</th>\n",
       "      <td>patient4_P8</td>\n",
       "      <td>11</td>\n",
       "    </tr>\n",
       "    <tr>\n",
       "      <th>977</th>\n",
       "      <td>patient4_P9</td>\n",
       "      <td>8</td>\n",
       "    </tr>\n",
       "  </tbody>\n",
       "</table>\n",
       "<p>978 rows × 2 columns</p>\n",
       "</div>"
      ],
      "text/plain": [
       "            index  cluster\n",
       "0    patient1_A10        2\n",
       "1    patient1_A12       11\n",
       "2    patient1_A13        6\n",
       "3    patient1_A15        6\n",
       "4    patient1_A17        6\n",
       "..            ...      ...\n",
       "973   patient4_P5        8\n",
       "974   patient4_P6        8\n",
       "975   patient4_P7        8\n",
       "976   patient4_P8       11\n",
       "977   patient4_P9        8\n",
       "\n",
       "[978 rows x 2 columns]"
      ]
     },
     "execution_count": 20,
     "metadata": {},
     "output_type": "execute_result"
    }
   ],
   "source": [
    "cluster_labels = pd.DataFrame(data = {'index': sc_pancreas.columns, 'cluster': clusters})\n",
    "cluster_labels"
   ]
  },
  {
   "cell_type": "markdown",
   "id": "913525b1",
   "metadata": {},
   "source": [
    "### PCA"
   ]
  },
  {
   "cell_type": "code",
   "execution_count": 20,
   "id": "53e87f3b",
   "metadata": {},
   "outputs": [],
   "source": [
    "pca = PCA(n_components=50)\n",
    "pancreas_pca = pca.fit_transform(pancreas_magic)"
   ]
  },
  {
   "cell_type": "code",
   "execution_count": 21,
   "id": "5205641e",
   "metadata": {},
   "outputs": [
    {
     "name": "stdout",
     "output_type": "stream",
     "text": [
      "Total explained variance: 0.998950607367323\n"
     ]
    }
   ],
   "source": [
    "# Print the explained variance ratio for each principal component\n",
    "# print('Explained variance ratio:', pca.explained_variance_ratio_)\n",
    "\n",
    "# Print the total explained variance\n",
    "print('Total explained variance:', np.sum(pca.explained_variance_ratio_))"
   ]
  },
  {
   "cell_type": "code",
   "execution_count": 24,
   "id": "694cbe64",
   "metadata": {},
   "outputs": [],
   "source": [
    "PCA = pd.DataFrame(data = pancreas_pca, columns = [\"PC\"+str(i+1) for i in range(50)])\n",
    "PCA.insert(loc=0, column='index', value=sc_pancreas.columns)"
   ]
  },
  {
   "cell_type": "markdown",
   "id": "1de94c8d",
   "metadata": {},
   "source": [
    "### Evaluation metrics"
   ]
  },
  {
   "cell_type": "code",
   "execution_count": 22,
   "id": "fc14a015",
   "metadata": {},
   "outputs": [
    {
     "data": {
      "text/plain": [
       "array([ 2,  3, 10, 10, 10, 10,  3, 10,  3,  6, 10,  3,  3,  3, 10,  3, 10,\n",
       "        3,  3, 10, 10,  3, 10, 10, 12, 10, 10,  4,  3,  7,  8,  6,  2, 10,\n",
       "        3,  3,  5,  3,  4,  3, 10,  3,  3,  6,  3, 10,  3,  3, 10, 10, 10,\n",
       "        3,  3, 10, 10, 10,  3,  3,  3, 12,  4,  3,  3, 10, 10,  4,  4, 10,\n",
       "        3, 10,  3,  3,  3,  4,  3, 10,  3, 10, 10, 10,  2,  3, 10,  3, 10,\n",
       "       10,  3, 10,  6,  1,  3, 10, 10,  3,  3,  3,  3,  3,  3,  3, 10,  3,\n",
       "        3,  3, 10,  3,  3,  3, 10, 10, 10, 10, 10, 10,  3,  3,  7,  3,  3,\n",
       "        3,  3,  4, 10,  3,  6,  4,  3,  3, 10,  3, 10, 10,  3,  3,  3,  3,\n",
       "        3,  3,  3,  3,  2, 10,  3,  3,  3,  3,  6,  3,  2,  3,  3,  3, 10,\n",
       "        3, 10, 10,  3, 10,  2,  3,  3,  3,  2, 10,  3,  3,  3,  3,  3, 10,\n",
       "       10,  3,  6, 10,  2, 10,  3,  3,  3,  3,  3, 10,  3,  3,  3,  3,  3,\n",
       "       10,  3,  3,  3,  3,  3,  3,  3,  3, 10,  3,  3,  3,  3,  9,  3,  3,\n",
       "        4,  3,  3,  3, 10,  3,  3,  3, 10,  6,  3,  3,  3,  3,  3,  3,  3,\n",
       "        3, 10,  4,  3,  3,  3,  3,  3, 10,  7,  3, 10,  3,  3, 12,  3, 10,\n",
       "        3,  3,  3,  3,  3,  3, 10,  1,  6,  3, 10,  6,  3,  4,  3,  3,  6,\n",
       "        1,  8,  4, 10,  3,  3,  4,  4,  5,  7,  3,  3,  3, 10,  3,  4, 10,\n",
       "        1,  3,  6, 10,  5, 10,  6,  6,  3,  9, 10,  3,  4, 12, 10,  3,  3,\n",
       "        2,  3,  3,  3,  3,  9,  3,  3,  3,  3, 10,  3,  6,  4, 10,  5, 12,\n",
       "        3,  4,  3,  8,  4, 10,  3,  7,  1, 10,  3,  4,  3,  4,  9, 10,  8,\n",
       "        4, 10,  3,  6,  3,  2,  3,  3,  3,  3,  7,  3,  8,  7,  4,  3,  3,\n",
       "        5,  4,  3,  3, 10,  4,  3,  3,  4,  3,  4,  3,  3,  3,  3,  3, 10,\n",
       "        2,  4,  4, 10,  3,  4,  3,  4,  3,  7,  3,  8,  8, 10,  1,  3,  3,\n",
       "       10,  5,  3,  3,  6,  3,  3,  5,  3,  1,  3,  3,  3,  1,  4,  6,  7,\n",
       "        3,  4,  3, 10,  3,  3, 10,  4,  6,  4,  7,  3,  3,  3,  3,  3,  7,\n",
       "        4, 10,  4,  3,  4, 12, 10,  4, 10,  1,  3,  3,  1, 12,  6,  3,  3,\n",
       "       10,  3,  3,  4, 10,  3,  3,  7,  3,  3,  1,  3, 10,  6,  3,  4, 10,\n",
       "       10,  3,  7,  7,  3,  3,  4,  4, 10, 10,  7, 10,  3,  3,  4,  3,  3,\n",
       "        7,  4, 12,  8,  3,  3,  8,  7,  1,  7, 12,  4,  4,  7,  7,  3,  4,\n",
       "        7,  3,  2,  2,  2,  2,  4,  2,  1,  2,  7,  1, 10,  7,  7, 10, 10,\n",
       "        2,  2,  5,  2,  4,  7,  7, 12,  2,  2,  4,  3,  2,  4,  4,  7,  2,\n",
       "        4,  2,  7,  7,  7,  2,  2,  7,  7, 10,  3, 10,  3,  6,  7,  2,  2,\n",
       "        2,  2, 12,  7,  2,  7,  4,  4,  3,  2,  3,  4,  7,  2,  7,  5,  7,\n",
       "        4,  2,  2,  4,  4,  3,  6,  4,  3,  2,  2,  7,  7,  7,  7,  7,  7,\n",
       "        3,  3,  2,  3,  4, 10,  4,  2,  3,  3,  2,  2,  2, 10,  7,  3,  7,\n",
       "        2,  7,  7,  7,  7, 10,  2,  4,  4,  2, 10,  2, 10,  2, 10,  7,  4,\n",
       "        7,  7,  2,  3,  2,  2,  2,  9,  4,  4,  2,  7,  7,  7,  2,  2,  2,\n",
       "        3,  7,  2,  7,  7,  2,  4,  3,  2,  2,  7,  7, 12,  7,  2,  4, 10,\n",
       "       10,  7,  2,  7,  7,  2,  7,  5, 10,  2,  2,  5,  7,  7,  2,  3,  2,\n",
       "        7,  4,  2,  2,  2,  7,  3,  7,  2,  2,  2,  7,  2, 10,  2,  2,  7,\n",
       "        4,  2,  7,  7,  3,  4,  2,  2,  2,  3,  2,  2,  4,  4,  2,  2,  2,\n",
       "        7,  2,  3,  2,  3,  7,  2,  7,  7,  2,  7,  4,  4,  2,  3,  5,  7,\n",
       "        7,  2,  3,  7,  7,  4,  2,  3,  3,  3,  3,  3,  7, 10,  2,  3,  3,\n",
       "        7,  1, 10,  3,  3,  2,  3,  4,  7,  7,  7,  4,  5,  3,  3,  3,  3,\n",
       "        3,  3,  3,  7,  1,  3,  4,  7,  6,  4,  7,  7,  7,  3,  3,  4,  6,\n",
       "        0,  3,  3,  3,  3,  3,  3,  3,  3,  2,  3,  3,  3,  7,  3,  3,  3,\n",
       "        3,  2,  1,  3,  7,  3,  3,  3,  7,  7,  7,  3,  3,  3,  1,  3,  3,\n",
       "        3,  2,  3,  7,  3,  7,  4, 10,  7,  0,  7,  3,  3,  3,  3,  3,  2,\n",
       "       12,  3,  4,  7,  7,  4,  7,  3,  7,  3,  3,  2,  7,  7,  3, 12,  2,\n",
       "        2,  2,  7,  3,  3, 10,  2,  7,  3,  4,  3, 12,  3,  6, 11,  7,  7,\n",
       "        3,  2,  7, 10,  5,  3,  3,  3,  3,  3,  1,  3,  7,  2,  7,  7,  7,\n",
       "        3,  3,  3,  7,  6,  1,  3,  3,  7,  3,  6,  1,  7,  2,  4,  3,  7,\n",
       "        3,  7,  7,  7,  7,  3,  6,  1,  3,  3,  7,  2,  3,  3,  3,  4,  3,\n",
       "        3,  3,  3,  3,  7, 10,  3,  8,  3,  7,  5,  3,  7,  7,  7,  3,  2,\n",
       "        7,  3,  1,  7,  3,  3,  1,  3,  3,  3,  2,  7,  7,  7,  7,  3,  3,\n",
       "        7, 11,  1,  2,  3,  4,  7,  1,  7,  2,  3,  3,  7,  7,  7,  3,  3,\n",
       "        2,  3,  3,  7,  7,  3,  2,  7,  7, 10,  7,  7,  3,  2,  7,  7,  3,\n",
       "        3,  7,  7,  7,  7,  3,  2,  7,  2,  3,  7,  4,  2,  7,  7,  5,  3,\n",
       "        2,  2,  3, 10,  5,  3,  3,  3,  3])"
      ]
     },
     "execution_count": 22,
     "metadata": {},
     "output_type": "execute_result"
    }
   ],
   "source": [
    "true_labels = LabelEncoder().fit(sc_pancreas_metadata['Celltype'])\n",
    "true_labels = true_labels.transform(sc_pancreas_metadata['Celltype'])\n",
    "true_labels # NO SE PORQUE PERO ESTO ME DA 12 CLASES en vez de 11"
   ]
  },
  {
   "cell_type": "code",
   "execution_count": 23,
   "id": "007d0249",
   "metadata": {},
   "outputs": [
    {
     "name": "stdout",
     "output_type": "stream",
     "text": [
      "Silhouette score: 0.4978395606924232\n",
      "Adjusted Rand Index: 0.5635211782168117\n",
      "V-Measure score: 0.7825165014263473\n",
      "Performance: 0.6146257467785273\n"
     ]
    }
   ],
   "source": [
    "ssc = silhouette_score(pancreas_pca, clusters)\n",
    "print('Silhouette score:', ssc)\n",
    "\n",
    "ari = adjusted_rand_score(true_labels, clusters)\n",
    "print('Adjusted Rand Index:', ari)\n",
    "\n",
    "v_measure = v_measure_score(true_labels, clusters)\n",
    "print('V-Measure score:', v_measure)\n",
    "\n",
    "performance = (1/3)*(ssc + ari + v_measure)\n",
    "print('Performance:', performance)"
   ]
  },
  {
   "cell_type": "markdown",
   "id": "652a8830",
   "metadata": {},
   "source": [
    "# Step 3: Predict on the test data"
   ]
  },
  {
   "cell_type": "markdown",
   "id": "630b787c",
   "metadata": {},
   "source": [
    "Cuando decidamos qué tecnicas de imputación y clustering son mejores, hacerlo en los datos de test."
   ]
  },
  {
   "cell_type": "markdown",
   "id": "d2cc8182",
   "metadata": {},
   "source": [
    "# Step 4: Save the required files"
   ]
  },
  {
   "cell_type": "code",
   "execution_count": null,
   "id": "2da285de",
   "metadata": {},
   "outputs": [],
   "source": [
    "# bulkified should be a DataFrame containing the \"bulkified\" version of the imputed data\n",
    "# bulkified.columns = [\"patient5\",\"patient6\",\"patient7\"]\n",
    "# bulkified.index = sc_pancreas_test.index"
   ]
  },
  {
   "cell_type": "code",
   "execution_count": null,
   "id": "0dfefc0e",
   "metadata": {},
   "outputs": [],
   "source": [
    "# assert all(bulkified.columns == [\"index\",\"patient5\",\"patient6\",\"patient7\"])\n",
    "# assert all(bulkified[\"index\"] == sc_pancreas_test.index)"
   ]
  },
  {
   "cell_type": "code",
   "execution_count": null,
   "id": "eec6fdbe",
   "metadata": {},
   "outputs": [],
   "source": [
    "# cluster_labels should be a DataFrame containing the cluster labels for each cell\n",
    "# cluster_labels.columns = [\"index\", \"cluster\"]\n",
    "# cluster_labels[\"index\"] = sc_pancreas_test.columns"
   ]
  },
  {
   "cell_type": "code",
   "execution_count": null,
   "id": "b579f622",
   "metadata": {},
   "outputs": [],
   "source": [
    "# assert all(cluster_labels.columns == [\"index\",\"cluster\"])\n",
    "# assert all(cluster_labels[\"index\"] == sc_pancreas_test.columns)"
   ]
  },
  {
   "cell_type": "code",
   "execution_count": null,
   "id": "74b55afd",
   "metadata": {},
   "outputs": [],
   "source": [
    "# PCA should be a DataFrame containing the coordinates of each cell in the PCA transformed space for the 50 first PCs\n",
    "# PCA.columns = [\"index\", \"PC1\", \"PC2\", ..., \"PC50\"]\n",
    "# PCA[\"index\"] = sc_pancreas_test.columns"
   ]
  },
  {
   "cell_type": "code",
   "execution_count": null,
   "id": "83835eae",
   "metadata": {},
   "outputs": [],
   "source": [
    "# assert all(PCA.columns == [\"index\"] + [\"PC\"+str(i+1) for i in range(50)])\n",
    "# assert all(PCA[\"index\"] == sc_pancreas_test.columns)"
   ]
  },
  {
   "cell_type": "code",
   "execution_count": null,
   "id": "f4a7b8fc",
   "metadata": {},
   "outputs": [],
   "source": [
    "# with zipfile.ZipFile(os.path.join(results_path, archive_name), \"x\") as zf:\n",
    "#     with zf.open(f\"imputed_bulkified.csv\", \"w\") as buffer:\n",
    "#         bulkified.to_csv(buffer)\n",
    "#     with zf.open(f\"cluster_membership.csv\", \"w\") as buffer:\n",
    "#         cluster_labels.to_csv(buffer)\n",
    "#     with zf.open(f\"PCA.csv\", \"w\") as buffer:\n",
    "#         PCA.to_csv(buffer)\n",
    "#     zf.close()"
   ]
  },
  {
   "cell_type": "code",
   "execution_count": null,
   "id": "99ab0880",
   "metadata": {},
   "outputs": [],
   "source": [
    "# archive = zipfile.ZipFile(os.path.join(results_path, archive_name))\n",
    "# assert all(\n",
    "#         [\n",
    "#             i in archive.namelist()\n",
    "#             for i in [\n",
    "#                 \"imputed_bulkified.csv\",\n",
    "#                 \"cluster_membership.csv\",\n",
    "#                 \"PCA.csv\",\n",
    "#             ]\n",
    "#         ]\n",
    "#     )"
   ]
  }
 ],
 "metadata": {
  "kernelspec": {
   "display_name": "Python 3 (ipykernel)",
   "language": "python",
   "name": "python3"
  },
  "language_info": {
   "codemirror_mode": {
    "name": "ipython",
    "version": 3
   },
   "file_extension": ".py",
   "mimetype": "text/x-python",
   "name": "python",
   "nbconvert_exporter": "python",
   "pygments_lexer": "ipython3",
   "version": "3.10.10"
  },
  "vscode": {
   "interpreter": {
    "hash": "de05724856f44136ef3ff83146670974be9737c243544759e45d91084944a041"
   }
  }
 },
 "nbformat": 4,
 "nbformat_minor": 5
}
