{
 "cells": [
  {
   "cell_type": "code",
   "execution_count": 1,
   "id": "73bf6dca",
   "metadata": {},
   "outputs": [
    {
     "name": "stderr",
     "output_type": "stream",
     "text": [
      "/home/acarballocastro/.conda/envs/ML4G_Proj2/lib/python3.10/site-packages/tqdm/auto.py:21: TqdmWarning: IProgress not found. Please update jupyter and ipywidgets. See https://ipywidgets.readthedocs.io/en/stable/user_install.html\n",
      "  from .autonotebook import tqdm as notebook_tqdm\n"
     ]
    }
   ],
   "source": [
    "import os\n",
    "import zipfile\n",
    "\n",
    "import pandas as pd\n",
    "import numpy as np\n",
    "import matplotlib\n",
    "import matplotlib.pyplot as plt\n",
    "%matplotlib inline\n",
    "\n",
    "# Imputation libraries\n",
    "import scprep # preprocessing\n",
    "import saver\n",
    "import magic\n",
    "import scanpy as sc\n",
    "\n",
    "from scipy.stats import spearmanr\n",
    "\n",
    "# Clustering libraries\n",
    "from sklearn.manifold import TSNE\n",
    "import umap\n",
    "from sklearn.cluster import KMeans\n",
    "from sklearn.decomposition import PCA, FastICA\n",
    "from sklearn.preprocessing import LabelEncoder\n",
    "from sklearn.model_selection import train_test_split\n",
    "from sklearn.utils import shuffle\n",
    "import anndata\n",
    "import scanpy.external as sce\n",
    "import harmonypy\n",
    "\n",
    "from sklearn.metrics import silhouette_score, adjusted_rand_score, v_measure_score\n",
    "#https://nbisweden.github.io/workshop-scRNAseq/labs/compiled/scanpy/scanpy_04_clustering.html"
   ]
  },
  {
   "cell_type": "markdown",
   "id": "20e76b52",
   "metadata": {},
   "source": [
    "# Step 0: Load data with scanpy"
   ]
  },
  {
   "cell_type": "code",
   "execution_count": 2,
   "id": "4dc0e1f6",
   "metadata": {},
   "outputs": [],
   "source": [
    "path_data = \"data/\"\n",
    "results_path = \"results\"\n",
    "archive_name = \"CarballoCastro_Alba.zip\""
   ]
  },
  {
   "cell_type": "code",
   "execution_count": 3,
   "id": "21af6071",
   "metadata": {},
   "outputs": [],
   "source": [
    "#Read the bulk and set gene names as variables and patients as observations\n",
    "\n",
    "bulk_pancreas = pd.read_csv(os.path.join(path_data,\"train_data\",\"pancreas_bulk_train.csv\")).set_index(\"level_0\")\n",
    "bulk = sc.read(os.path.join(path_data,\"train_data\",\"pancreas_bulk_train.csv\")).transpose()\n",
    "bulk.var['gene_id'] = bulk_pancreas.index\n",
    "bulk.obs ['patient_id'] = bulk_pancreas.columns\n",
    "bulk.var_names_make_unique()"
   ]
  },
  {
   "cell_type": "code",
   "execution_count": 4,
   "id": "bd7cd91f",
   "metadata": {},
   "outputs": [],
   "source": [
    "#Now I read the single cell data and metadata\n",
    "sc_pancreas = pd.read_csv(os.path.join(path_data,\"train_data\",\"pancreas_sc_train.csv\")).set_index(\"Unnamed: 0\")\n",
    "sc_pancreas_metadata = pd.read_csv(os.path.join(path_data,\"train_data\",\"pancreas_sc_metadata_train.csv\")).set_index(\"Source Name\")\n",
    "sc_train = sc.read(os.path.join(path_data,\"train_data\",\"pancreas_sc_train.csv\")).transpose()\n",
    "sc_train.var['gene_id'] = sc_pancreas.index\n",
    "sc_train.obs['cell_id'] = sc_pancreas.columns\n",
    "sc_train.obs['cell_type']= sc_pancreas_metadata['Celltype']\n",
    "sc_train.var_names_make_unique()\n",
    "\n",
    "# I also read the single cell test data and metadata\n",
    "\n",
    "sc_pancreas_test = pd.read_csv(os.path.join(path_data,\"test_data\",\"pancreas_sc_test.csv\")).set_index(\"Unnamed: 0\")\n",
    "sc_pancreas_metadata_test = pd.read_csv(os.path.join(path_data,\"test_data\",\"pancreas_sc_metadata_test_wocelltype.csv\")).set_index(\"Source Name\")\n",
    "\n",
    "sc_test = sc.read(os.path.join(path_data,\"test_data\",\"pancreas_sc_test.csv\")).transpose()\n",
    "sc_test.var['gene_id'] = sc_pancreas_test.index\n",
    "sc_test.obs['cell_id'] = sc_pancreas_test.columns\n",
    "sc_test.var_names_make_unique()"
   ]
  },
  {
   "cell_type": "code",
   "execution_count": 5,
   "id": "0d8601d9",
   "metadata": {
    "scrolled": true
   },
   "outputs": [
    {
     "name": "stdout",
     "output_type": "stream",
     "text": [
      "Number of patients in the train dataset 4\n",
      "Number of genes in the dataset 25453\n",
      "Number of cells in the train dataset 978\n"
     ]
    }
   ],
   "source": [
    "print(f\"Number of patients in the train dataset {bulk.X.shape[0]}\")\n",
    "\n",
    "print(f\"Number of genes in the dataset {bulk.X.shape[1]}\")\n",
    "\n",
    "assert bulk.X.shape[1] == sc_train.X.shape[1]\n",
    "print(f\"Number of cells in the train dataset {sc_train.X.shape[0]}\")"
   ]
  },
  {
   "cell_type": "code",
   "execution_count": 6,
   "id": "6c382b33",
   "metadata": {},
   "outputs": [
    {
     "name": "stdout",
     "output_type": "stream",
     "text": [
      "Number of cells in the test dataset 789\n"
     ]
    }
   ],
   "source": [
    "print(f\"Number of cells in the test dataset {sc_test.X.shape[0]}\")"
   ]
  },
  {
   "cell_type": "code",
   "execution_count": 7,
   "id": "bde772cf",
   "metadata": {},
   "outputs": [
    {
     "name": "stdout",
     "output_type": "stream",
     "text": [
      "Number of cells for patient1 is 249\n",
      "Number of cells for patient3 is 219\n",
      "Number of cells for patient2 is 234\n",
      "Number of cells for patient4 is 276\n"
     ]
    }
   ],
   "source": [
    "for patient in sc_pancreas_metadata.Sample.unique():\n",
    "    print(f\"Number of cells for {patient} is {sc_pancreas_metadata[sc_pancreas_metadata.Sample==patient].shape[0]}\")"
   ]
  },
  {
   "cell_type": "code",
   "execution_count": 8,
   "id": "e2027c27",
   "metadata": {},
   "outputs": [
    {
     "name": "stdout",
     "output_type": "stream",
     "text": [
      "There are 2 train patients with type II diabetes mellitus\n",
      "There are 2 train patients with normal\n"
     ]
    }
   ],
   "source": [
    "for dis in sc_pancreas_metadata.Disease.unique():\n",
    "    df = sc_pancreas_metadata[sc_pancreas_metadata.Disease==dis]\n",
    "    print(f\"There are {df.Sample.nunique()} train patients with {dis}\")"
   ]
  },
  {
   "cell_type": "code",
   "execution_count": 9,
   "id": "806c6c0a",
   "metadata": {
    "scrolled": true
   },
   "outputs": [
    {
     "name": "stdout",
     "output_type": "stream",
     "text": [
      "There are 13 different cell types in the dataset\n",
      "The different cells types are ['acinar cell' 'alpha cell' 'gamma cell' 'delta cell'\n",
      " 'unclassified endocrine cell' 'beta cell' 'ductal cell'\n",
      " 'endothelial cell' 'co-expression cell' 'PSC cell' 'epsilon cell'\n",
      " 'MHC class II cell' 'mast cell']\n"
     ]
    }
   ],
   "source": [
    "print(f\"There are {sc_pancreas_metadata.Celltype.nunique()} different cell types in the dataset\")\n",
    "print(f\"The different cells types are {sc_pancreas_metadata.Celltype.unique()}\")"
   ]
  },
  {
   "cell_type": "code",
   "execution_count": 10,
   "id": "2ee0bc2b",
   "metadata": {},
   "outputs": [
    {
     "name": "stdout",
     "output_type": "stream",
     "text": [
      "Number of cells for patient5 is 203\n",
      "Number of cells for patient7 is 284\n",
      "Number of cells for patient6 is 302\n"
     ]
    }
   ],
   "source": [
    "for patient in sc_pancreas_metadata_test.Sample.unique():\n",
    "    print(f\"Number of cells for {patient} is {sc_pancreas_metadata_test[sc_pancreas_metadata_test.Sample==patient].shape[0]}\")"
   ]
  },
  {
   "cell_type": "code",
   "execution_count": 11,
   "id": "ffd5982d",
   "metadata": {},
   "outputs": [
    {
     "name": "stdout",
     "output_type": "stream",
     "text": [
      "There are 1 test patients with normal\n",
      "There are 2 test patients with type II diabetes mellitus\n"
     ]
    }
   ],
   "source": [
    "for dis in sc_pancreas_metadata_test.Disease.unique():\n",
    "    df = sc_pancreas_metadata_test[sc_pancreas_metadata_test.Disease==dis]\n",
    "    print(f\"There are {df.Sample.nunique()} test patients with {dis}\")"
   ]
  },
  {
   "cell_type": "markdown",
   "id": "fd3370c0",
   "metadata": {},
   "source": [
    "# Step 1: Data preprocessing"
   ]
  },
  {
   "cell_type": "code",
   "execution_count": null,
   "id": "fdcd8b4c",
   "metadata": {},
   "outputs": [],
   "source": [
    "# For the imputation, we need to have the data log transformed\n",
    "sc.pp.log1p(bulk)\n",
    "sc.pp.log1p(sc_train)\n",
    "sc.pp.log1p(sc_test)\n"
   ]
  },
  {
   "cell_type": "markdown",
   "id": "9d634db5",
   "metadata": {},
   "source": [
    "# Step 2: Perform the imputation"
   ]
  },
  {
   "cell_type": "markdown",
   "id": "6b7a0205",
   "metadata": {},
   "source": [
    "### Data preprocessing\n",
    "\n",
    "* Filtering: we see that data is prefiltered\n",
    "* Removing unexpressed genes? -> MAGIC recomienda pero según las guidelines no se debe eliminar ningún gen"
   ]
  },
  {
   "cell_type": "code",
   "execution_count": null,
   "id": "91ee036e",
   "metadata": {},
   "outputs": [],
   "source": [
    "scprep.plot.plot_library_size(sc_train.X.transpose(), cutoff=5000)"
   ]
  },
  {
   "cell_type": "markdown",
   "id": "89b810c9",
   "metadata": {},
   "source": [
    "### Imputation using MAGIC"
   ]
  },
  {
   "cell_type": "code",
   "execution_count": null,
   "id": "8cac5702",
   "metadata": {},
   "outputs": [],
   "source": [
    "magic_op = magic.MAGIC()"
   ]
  },
  {
   "cell_type": "code",
   "execution_count": null,
   "id": "c99e7779",
   "metadata": {},
   "outputs": [],
   "source": [
    "#Apply MAGIC in the whole training data\n",
    "sc_magic = magic_op.fit_transform(sc_train.X)"
   ]
  },
  {
   "cell_type": "code",
   "execution_count": null,
   "id": "92dcc15a",
   "metadata": {},
   "outputs": [],
   "source": [
    "#We will create the bulkified matrix to compare the bulk with the imputed data.\n",
    "#In the bulk matrix we just have one measurement per patient per gene. \n",
    "#In the sc data we need to compute the average over each cell for each patient and gene\n",
    "\n",
    "assert sc_pancreas_metadata.shape[0] == sc_magic.shape[0]\n"
   ]
  },
  {
   "cell_type": "code",
   "execution_count": null,
   "id": "f12b28ee",
   "metadata": {},
   "outputs": [],
   "source": [
    "#We will create the bulkified matrix to compare the bulk with the imputed data.\n",
    "#In the bulk matrix we just have one measurement per patient per gene. \n",
    "#In the sc data we need to compute the average over each cell for each patient and gene\n",
    "\n",
    "assert sc_pancreas_metadata.shape[0] == sc_magic.shape[0]\n",
    "df_magic = pd.DataFrame(sc_magic, index= sc_pancreas_metadata.index, columns= sc_train.var['gene_id'])\n",
    "train_merged = sc_pancreas_metadata.join(df_magic, on='Source Name')\n",
    "train_bulkified = train_merged.groupby('Sample', as_index= False).mean()\n",
    "train_bulkified.drop(train_bulkified.columns[0],axis=1, inplace=True)\n",
    "train_bulkified.index = [\"patient1\",\"patient2\",\"patient3\",\"patient4\"]\n",
    "print(f'Train bulkified matrix shape is : {train_bulkified.shape}')\n",
    "print(f'Train bulk matrix shape is : {bulk.X.shape}')\n",
    "\n",
    "#I will transpose them so that they agree with the previous dimensions just in case\n",
    "train_bulkified_t = train_bulkified.transpose()\n",
    "bulk_t = bulk.transpose()\n",
    "\n",
    "print(f'Transposed train bulkified matrix shape is : {train_bulkified_t.shape}')\n",
    "print(f'Transposed train bulk matrix shape is : {bulk_t.X.shape}')"
   ]
  },
  {
   "cell_type": "markdown",
   "id": "1056a6e4",
   "metadata": {},
   "source": [
    "### Performance evaluation: Spearman"
   ]
  },
  {
   "cell_type": "code",
   "execution_count": null,
   "id": "04642369",
   "metadata": {},
   "outputs": [],
   "source": [
    "# MAGIC\n",
    "corr, pval = spearmanr(bulk_t.X, train_bulkified_t)\n",
    "spearman = corr.mean()\n",
    "print(f'Spearman correlation for train is {spearman}')"
   ]
  },
  {
   "cell_type": "code",
   "execution_count": null,
   "id": "4885bea9",
   "metadata": {},
   "outputs": [],
   "source": [
    "#TODO: train magic with all the train data, predict on test and provide the file in the final format\n"
   ]
  },
  {
   "cell_type": "markdown",
   "id": "131d64a6",
   "metadata": {},
   "source": [
    "# Step 3: Perform clustering "
   ]
  },
  {
   "attachments": {},
   "cell_type": "markdown",
   "id": "09f25dd9",
   "metadata": {},
   "source": [
    "## Trial of clustering UMAP"
   ]
  },
  {
   "cell_type": "code",
   "execution_count": 12,
   "id": "dd7216b9",
   "metadata": {},
   "outputs": [],
   "source": [
    "import umap\n",
    "import hdbscan\n",
    "import sklearn.cluster as cluster"
   ]
  },
  {
   "cell_type": "code",
   "execution_count": 27,
   "id": "c5b30e37",
   "metadata": {},
   "outputs": [],
   "source": [
    "clusterable_embedding = umap.UMAP(\n",
    "    n_neighbors=5,\n",
    "    min_dist=1.0,\n",
    "    n_components=2,\n",
    "    random_state=42,\n",
    ").fit_transform(sc_pancreas.transpose())"
   ]
  },
  {
   "cell_type": "code",
   "execution_count": 29,
   "id": "0574741d",
   "metadata": {},
   "outputs": [
    {
     "data": {
      "text/plain": [
       "0"
      ]
     },
     "execution_count": 29,
     "metadata": {},
     "output_type": "execute_result"
    }
   ],
   "source": [
    "labels = hdbscan.HDBSCAN(\n",
    "    min_samples=10,\n",
    "    min_cluster_size=500,\n",
    ").fit_predict(clusterable_embedding)\n",
    "clustered = (labels >= 0)\n",
    "clustered.sum()"
   ]
  },
  {
   "cell_type": "code",
   "execution_count": 15,
   "id": "81aac6f8",
   "metadata": {},
   "outputs": [],
   "source": [
    "pca_ob = PCA(n_components=50)\n",
    "pca_matrix_50 = pca_ob.fit_transform(sc_pancreas.transpose())"
   ]
  },
  {
   "cell_type": "code",
   "execution_count": 30,
   "id": "6ec24a82",
   "metadata": {},
   "outputs": [
    {
     "ename": "ValueError",
     "evalue": "Number of labels is 1. Valid values are 2 to n_samples - 1 (inclusive)",
     "output_type": "error",
     "traceback": [
      "\u001b[0;31m---------------------------------------------------------------------------\u001b[0m",
      "\u001b[0;31mValueError\u001b[0m                                Traceback (most recent call last)",
      "Cell \u001b[0;32mIn[30], line 7\u001b[0m\n\u001b[1;32m      4\u001b[0m encoder \u001b[39m=\u001b[39m LabelEncoder()\n\u001b[1;32m      5\u001b[0m encoded_label \u001b[39m=\u001b[39m encoder\u001b[39m.\u001b[39mfit_transform(cell_labels)\n\u001b[0;32m----> 7\u001b[0m ssc \u001b[39m=\u001b[39m silhouette_score(pca_matrix_50, labels)\n\u001b[1;32m      8\u001b[0m \u001b[39mprint\u001b[39m(\u001b[39m'\u001b[39m\u001b[39mSilhouette score:\u001b[39m\u001b[39m'\u001b[39m, ssc)\n\u001b[1;32m     10\u001b[0m ari \u001b[39m=\u001b[39m adjusted_rand_score(encoded_label, labels)\n",
      "File \u001b[0;32m~/.conda/envs/ML4G_Proj2/lib/python3.10/site-packages/sklearn/metrics/cluster/_unsupervised.py:117\u001b[0m, in \u001b[0;36msilhouette_score\u001b[0;34m(X, labels, metric, sample_size, random_state, **kwds)\u001b[0m\n\u001b[1;32m    115\u001b[0m     \u001b[39melse\u001b[39;00m:\n\u001b[1;32m    116\u001b[0m         X, labels \u001b[39m=\u001b[39m X[indices], labels[indices]\n\u001b[0;32m--> 117\u001b[0m \u001b[39mreturn\u001b[39;00m np\u001b[39m.\u001b[39mmean(silhouette_samples(X, labels, metric\u001b[39m=\u001b[39;49mmetric, \u001b[39m*\u001b[39;49m\u001b[39m*\u001b[39;49mkwds))\n",
      "File \u001b[0;32m~/.conda/envs/ML4G_Proj2/lib/python3.10/site-packages/sklearn/metrics/cluster/_unsupervised.py:231\u001b[0m, in \u001b[0;36msilhouette_samples\u001b[0;34m(X, labels, metric, **kwds)\u001b[0m\n\u001b[1;32m    229\u001b[0m n_samples \u001b[39m=\u001b[39m \u001b[39mlen\u001b[39m(labels)\n\u001b[1;32m    230\u001b[0m label_freqs \u001b[39m=\u001b[39m np\u001b[39m.\u001b[39mbincount(labels)\n\u001b[0;32m--> 231\u001b[0m check_number_of_labels(\u001b[39mlen\u001b[39;49m(le\u001b[39m.\u001b[39;49mclasses_), n_samples)\n\u001b[1;32m    233\u001b[0m kwds[\u001b[39m\"\u001b[39m\u001b[39mmetric\u001b[39m\u001b[39m\"\u001b[39m] \u001b[39m=\u001b[39m metric\n\u001b[1;32m    234\u001b[0m reduce_func \u001b[39m=\u001b[39m functools\u001b[39m.\u001b[39mpartial(\n\u001b[1;32m    235\u001b[0m     _silhouette_reduce, labels\u001b[39m=\u001b[39mlabels, label_freqs\u001b[39m=\u001b[39mlabel_freqs\n\u001b[1;32m    236\u001b[0m )\n",
      "File \u001b[0;32m~/.conda/envs/ML4G_Proj2/lib/python3.10/site-packages/sklearn/metrics/cluster/_unsupervised.py:33\u001b[0m, in \u001b[0;36mcheck_number_of_labels\u001b[0;34m(n_labels, n_samples)\u001b[0m\n\u001b[1;32m     22\u001b[0m \u001b[39m\u001b[39m\u001b[39m\"\"\"Check that number of labels are valid.\u001b[39;00m\n\u001b[1;32m     23\u001b[0m \n\u001b[1;32m     24\u001b[0m \u001b[39mParameters\u001b[39;00m\n\u001b[0;32m   (...)\u001b[0m\n\u001b[1;32m     30\u001b[0m \u001b[39m    Number of samples.\u001b[39;00m\n\u001b[1;32m     31\u001b[0m \u001b[39m\"\"\"\u001b[39;00m\n\u001b[1;32m     32\u001b[0m \u001b[39mif\u001b[39;00m \u001b[39mnot\u001b[39;00m \u001b[39m1\u001b[39m \u001b[39m<\u001b[39m n_labels \u001b[39m<\u001b[39m n_samples:\n\u001b[0;32m---> 33\u001b[0m     \u001b[39mraise\u001b[39;00m \u001b[39mValueError\u001b[39;00m(\n\u001b[1;32m     34\u001b[0m         \u001b[39m\"\u001b[39m\u001b[39mNumber of labels is \u001b[39m\u001b[39m%d\u001b[39;00m\u001b[39m. Valid values are 2 to n_samples - 1 (inclusive)\u001b[39m\u001b[39m\"\u001b[39m\n\u001b[1;32m     35\u001b[0m         \u001b[39m%\u001b[39m n_labels\n\u001b[1;32m     36\u001b[0m     )\n",
      "\u001b[0;31mValueError\u001b[0m: Number of labels is 1. Valid values are 2 to n_samples - 1 (inclusive)"
     ]
    }
   ],
   "source": [
    "#Encode the true labels\n",
    "\n",
    "cell_labels = sc_pancreas_metadata['Celltype']\n",
    "encoder = LabelEncoder()\n",
    "encoded_label = encoder.fit_transform(cell_labels)\n",
    "\n",
    "ssc = silhouette_score(pca_matrix_50, labels)\n",
    "print('Silhouette score:', ssc)\n",
    "\n",
    "ari = adjusted_rand_score(encoded_label, labels)\n",
    "print('Adjusted Rand Index:', ari)\n",
    "\n",
    "v_measure = v_measure_score(encoded_label, labels)\n",
    "print('V-Measure score:', v_measure)\n",
    "\n",
    "performance = (1/3)*(ssc + ari + v_measure)\n",
    "print('Performance:', performance)"
   ]
  },
  {
   "cell_type": "markdown",
   "id": "7a74a279",
   "metadata": {},
   "source": [
    "# Code by parts"
   ]
  },
  {
   "cell_type": "code",
   "execution_count": null,
   "id": "3ff32c5b",
   "metadata": {},
   "outputs": [],
   "source": [
    "#Load sc train\n",
    "sc.settings.verbosity = 3 \n",
    "sc_train = sc.read(os.path.join(path_data,\"train_data\",\"pancreas_sc_train.csv\"), cache=True).transpose()\n",
    "sc_train.var['gene_id'] = sc_pancreas.index\n",
    "sc_train.obs['cell_id'] = sc_pancreas.columns\n",
    "sc_train.obs['cell_type']= sc_pancreas_metadata['Celltype']\n",
    "sc_train.var_names_make_unique()\n",
    "sc.pp.log1p(sc_train)\n",
    "sc_train.obs['batch']= sc_pancreas_metadata['Disease']\n",
    "sc_train.obs['patient']= sc_pancreas_metadata['Sample']\n",
    "sc_train.var_names_make_unique()"
   ]
  },
  {
   "cell_type": "code",
   "execution_count": null,
   "id": "98db1fd9",
   "metadata": {},
   "outputs": [],
   "source": [
    "sc.pp.filter_cells(sc_train, min_genes=200)\n",
    "sc.pp.filter_genes(sc_train, min_cells=2)\n",
    "sc.pp.normalize_total(sc_train, target_sum=1e4)\n",
    "#matrix = sc_train.X. Worse performance with square root\n",
    "#sqrt_matrix = np.sqrt(matrix)\n",
    "#sc_train.X = sqrt_matrix\n",
    "sc.pp.log1p(sc_train, base=10)\n",
    "sc_train.raw = sc_train\n",
    "sc.pp.highly_variable_genes(sc_train, n_top_genes=700)\n",
    "sc_train = sc_train[:, sc_train.var.highly_variable]\n",
    "sc.pp.scale(sc_train)"
   ]
  },
  {
   "cell_type": "code",
   "execution_count": null,
   "id": "5e4e8edb",
   "metadata": {},
   "outputs": [],
   "source": [
    "#sc.tl.pca(sc_train, n_comps = 200 )\n",
    "#sce.pp.harmony_integrate(sc_train, 'batch')\n",
    "# sc.tl.pca(sc_train, n_comps= 250)\n",
    "# sc.external.pp.bbknn(sc_train, batch_key='batch', n_pcs=250)\n",
    "sc.pp.neighbors(sc_train, n_neighbors=20, use_rep='X')"
   ]
  },
  {
   "cell_type": "code",
   "execution_count": null,
   "id": "0e980ecd",
   "metadata": {},
   "outputs": [],
   "source": [
    "sc.tl.umap(sc_train)\n",
    "sc.pl.umap(sc_train, color=['cell_type'])"
   ]
  },
  {
   "cell_type": "code",
   "execution_count": null,
   "id": "4b09379f",
   "metadata": {},
   "outputs": [],
   "source": [
    "sc_train.obsm['X_umap'].shape"
   ]
  },
  {
   "cell_type": "code",
   "execution_count": null,
   "id": "0b0025d7",
   "metadata": {},
   "outputs": [],
   "source": [
    "sc.tl.leiden(sc_train, resolution=1.4, random_state=42)\n",
    "sc_train\n",
    "sc.pl.umap(sc_train, color=['leiden', 'cell_type'])"
   ]
  },
  {
   "cell_type": "code",
   "execution_count": null,
   "id": "1788b1e7",
   "metadata": {},
   "outputs": [],
   "source": [
    "sc_train.obsm['X_pca'].shape"
   ]
  },
  {
   "cell_type": "code",
   "execution_count": null,
   "id": "5e11ba2c",
   "metadata": {},
   "outputs": [],
   "source": [
    "#PCA = PCA(n_components=50)\n",
    "#pca_matrix_50 = PCA.fit_transform(sc_train.obsm['X_pca'])"
   ]
  },
  {
   "cell_type": "code",
   "execution_count": null,
   "id": "d07fc5ae",
   "metadata": {},
   "outputs": [],
   "source": [
    "#Obtain labels from leiden clustering\n",
    "leiden_labels = sc_train.obs['umap_leiden']\n",
    "leiden_l = np.empty((978,), dtype=int)\n",
    "for i in range(978):\n",
    "    value= leiden_labels[i]\n",
    "    leiden_l[i]= value\n",
    "\n",
    "#Compute PCA space to evaluate silhuoette coefficient\n",
    "sc.tl.pca(sc_train, n_comps= 50)\n",
    "pca_matrix_50 = sc_train.obsm['X_pca']\n",
    "\n",
    "#Encode the true labels\n",
    "\n",
    "cell_labels = sc_pancreas_metadata['Celltype']\n",
    "encoder = LabelEncoder()\n",
    "encoded_label = encoder.fit_transform(cell_labels)\n",
    "\n",
    "ssc = silhouette_score(pca_matrix_50, leiden_l)\n",
    "print('Silhouette score:', ssc)\n",
    "\n",
    "ari = adjusted_rand_score(encoded_label, leiden_l)\n",
    "print('Adjusted Rand Index:', ari)\n",
    "\n",
    "v_measure = v_measure_score(encoded_label, leiden_l)\n",
    "print('V-Measure score:', v_measure)\n",
    "\n",
    "performance = (1/3)*(ssc + ari + v_measure)\n",
    "print('Performance:', performance)\n"
   ]
  },
  {
   "cell_type": "markdown",
   "id": "069928a2",
   "metadata": {},
   "source": [
    "### Code complete"
   ]
  },
  {
   "cell_type": "code",
   "execution_count": null,
   "id": "7544043d",
   "metadata": {},
   "outputs": [],
   "source": [
    "#Load sc train\n",
    "\n",
    "neighbours= range(5,50)\n",
    "res= np.arange(0.1, 2.1, 0.1)\n",
    "results=[]\n",
    "for neigh in neighbours:\n",
    "    for resolution in res:\n",
    "        #sc.settings.verbosity = 3 \n",
    "        sc_train = sc.read(os.path.join(path_data,\"train_data\",\"pancreas_sc_train.csv\"), cache=True).transpose()\n",
    "        sc_train.var['gene_id'] = sc_pancreas.index\n",
    "        sc_train.obs['cell_id'] = sc_pancreas.columns\n",
    "        sc_train.obs['cell_type']= sc_pancreas_metadata['Celltype']\n",
    "        sc_train.var_names_make_unique()\n",
    "        sc.pp.log1p(sc_train)\n",
    "        sc_train.obs['batch']= sc_pancreas_metadata['Disease']\n",
    "        sc_train.obs['patient']= sc_pancreas_metadata['Sample']\n",
    "        sc_train.var_names_make_unique()\n",
    "\n",
    "        sc.pp.filter_cells(sc_train, min_genes=200)\n",
    "        sc.pp.filter_genes(sc_train, min_cells=2)\n",
    "        sc.pp.normalize_total(sc_train, target_sum=1e4)\n",
    "        sc.pp.log1p(sc_train, base=10)\n",
    "        sc_train.raw = sc_train\n",
    "        sc.pp.highly_variable_genes(sc_train, n_top_genes=700)\n",
    "        sc_train = sc_train[:, sc_train.var.highly_variable]\n",
    "        sc.pp.scale(sc_train)\n",
    "\n",
    "        sc.pp.neighbors(sc_train, n_neighbors=neigh, use_rep='X')\n",
    "        sc.tl.leiden(sc_train, resolution=resolution, random_state=42)\n",
    "\n",
    "        #Obtain labels from leiden clustering\n",
    "        leiden_labels = sc_train.obs['leiden']\n",
    "        leiden_l = np.empty((978,), dtype=int)\n",
    "        for i in range(978):\n",
    "            value= leiden_labels[i]\n",
    "            leiden_l[i]= value\n",
    "\n",
    "        #Compute PCA space to evaluate silhuoette coefficient\n",
    "        sc.tl.pca(sc_train, n_comps= 50)\n",
    "        pca_matrix_50 = sc_train.obsm['X_pca']\n",
    "\n",
    "        #Encode the true labels\n",
    "\n",
    "        cell_labels = sc_pancreas_metadata['Celltype']\n",
    "        encoder = LabelEncoder()\n",
    "        encoded_label = encoder.fit_transform(cell_labels)\n",
    "\n",
    "        ssc = silhouette_score(pca_matrix_50, leiden_l)\n",
    "        #print('Silhouette score:', ssc)\n",
    "\n",
    "        ari = adjusted_rand_score(encoded_label, leiden_l)\n",
    "        #print('Adjusted Rand Index:', ari)\n",
    "\n",
    "        v_measure = v_measure_score(encoded_label, leiden_l)\n",
    "        #print('V-Measure score:', v_measure)\n",
    "\n",
    "        performance = (1/3)*(ssc + ari + v_measure)\n",
    "        #print('Performance:', performance)\n",
    "        results.append([neigh, resolution, ssc, ari,v_measure, performance])"
   ]
  },
  {
   "cell_type": "code",
   "execution_count": null,
   "id": "3e555d71",
   "metadata": {},
   "outputs": [],
   "source": [
    "df_2= pd.DataFrame(results, columns=['neigh', 'resolution', 'ssc', 'ari', 'v', 'total'])\n",
    "df_2.sort_values(by='total', ascending=False)"
   ]
  },
  {
   "cell_type": "code",
   "execution_count": null,
   "id": "8b6fb639",
   "metadata": {},
   "outputs": [],
   "source": [
    "neigh=3\n",
    "sc.pp.neighbors(sc_train, n_neighbors=neigh, use_rep='X')"
   ]
  },
  {
   "cell_type": "markdown",
   "id": "62726f5e",
   "metadata": {},
   "source": [
    "### PCA dimensionality reduction"
   ]
  },
  {
   "cell_type": "code",
   "execution_count": null,
   "id": "e41a4f77",
   "metadata": {},
   "outputs": [],
   "source": [
    "sc.tl.pca(sc_imput, n_comps = 60 )"
   ]
  },
  {
   "cell_type": "code",
   "execution_count": null,
   "id": "009791e0",
   "metadata": {
    "scrolled": true
   },
   "outputs": [],
   "source": [
    "sce.pp.harmony_integrate(sc_imput, 'batch')"
   ]
  },
  {
   "cell_type": "markdown",
   "id": "0497fed6",
   "metadata": {},
   "source": [
    "### Graph constructing for clustering"
   ]
  },
  {
   "cell_type": "code",
   "execution_count": null,
   "id": "2a09c22f",
   "metadata": {},
   "outputs": [],
   "source": [
    "sc_imput.obsm['X_pca'] = sc_imput.obsm['X_pca_harmony']\n"
   ]
  },
  {
   "cell_type": "code",
   "execution_count": null,
   "id": "c0231a11",
   "metadata": {},
   "outputs": [],
   "source": [
    "sc.pp.neighbors(sc_imput, n_neighbors=35, n_pcs=30)"
   ]
  },
  {
   "cell_type": "code",
   "execution_count": null,
   "id": "cfa682a0",
   "metadata": {},
   "outputs": [],
   "source": [
    "sc.tl.umap(sc_imput)\n",
    "sc.pl.umap(sc_imput, color=['cell_type', 'batch'])"
   ]
  },
  {
   "cell_type": "code",
   "execution_count": null,
   "id": "89964cff",
   "metadata": {},
   "outputs": [],
   "source": [
    "sc.tl.umap(sc_imput)\n",
    "sc.pl.umap(sc_imput, color=['cell_type', 'batch'])"
   ]
  },
  {
   "cell_type": "code",
   "execution_count": null,
   "id": "51cf4952",
   "metadata": {},
   "outputs": [],
   "source": [
    "sc.tl.leiden(sc_imput, resolution = 0.27)\n",
    "sc.pl.umap(sc_imput, color=['leiden', 'batch'])"
   ]
  },
  {
   "cell_type": "code",
   "execution_count": null,
   "id": "0e607b17",
   "metadata": {},
   "outputs": [],
   "source": [
    "#Obtain labels from leiden clustering\n",
    "leiden_labels = sc_imput.obs['leiden']\n",
    "leiden_l = np.empty((978,), dtype=int)\n",
    "for i in range(978):\n",
    "    value= leiden_labels[i]\n",
    "    leiden_l[i]= value"
   ]
  },
  {
   "cell_type": "code",
   "execution_count": null,
   "id": "66a87f9f",
   "metadata": {},
   "outputs": [],
   "source": [
    "#Compute PCA space to evaluate silhuoette coefficie\n",
    "sc.tl.pca(sc_imput, n_comps= 50)\n",
    "pca_matrix_50 = sc_imput.obsm['X_pca']"
   ]
  },
  {
   "cell_type": "code",
   "execution_count": null,
   "id": "38534103",
   "metadata": {},
   "outputs": [],
   "source": [
    "#Encode the true labels\n",
    "\n",
    "cell_labels = sc_pancreas_metadata['Celltype']\n",
    "encoder = LabelEncoder()\n",
    "encoded_label = encoder.fit_transform(cell_labels)\n",
    "#decoded_label = encoder.inverse_transform(encoded_label)"
   ]
  },
  {
   "cell_type": "code",
   "execution_count": null,
   "id": "2ffcc5aa",
   "metadata": {},
   "outputs": [],
   "source": [
    "ssc = silhouette_score(pca_matrix_50, leiden_l)\n",
    "print('Silhouette score:', ssc)\n",
    "\n",
    "ari = adjusted_rand_score(encoded_label, leiden_l)\n",
    "print('Adjusted Rand Index:', ari)\n",
    "\n",
    "v_measure = v_measure_score(encoded_label, leiden_l)\n",
    "print('V-Measure score:', v_measure)\n",
    "\n",
    "performance = (1/3)*(ssc + ari + v_measure)\n",
    "print('Performance:', performance)"
   ]
  },
  {
   "cell_type": "code",
   "execution_count": null,
   "id": "a7c0efd9",
   "metadata": {},
   "outputs": [],
   "source": []
  },
  {
   "cell_type": "code",
   "execution_count": null,
   "id": "6b5d4187",
   "metadata": {},
   "outputs": [],
   "source": [
    "ssc = silhouette_score(pca_matrix_50, leiden_l)\n",
    "print('Silhouette score:', ssc)\n",
    "\n",
    "ari = adjusted_rand_score(encoded_label, leiden_l)\n",
    "print('Adjusted Rand Index:', ari)\n",
    "\n",
    "v_measure = v_measure_score(encoded_label, leiden_l)\n",
    "print('V-Measure score:', v_measure)\n",
    "\n",
    "performance = (1/3)*(ssc + ari + v_measure)\n",
    "print('Performance:', performance)"
   ]
  },
  {
   "cell_type": "markdown",
   "id": "913525b1",
   "metadata": {},
   "source": [
    "### PCA Dataframe"
   ]
  },
  {
   "cell_type": "code",
   "execution_count": null,
   "id": "694cbe64",
   "metadata": {},
   "outputs": [],
   "source": [
    "PCA_df = pd.DataFrame(data = pancreas_pca, columns = [\"PC\"+str(i+1) for i in range(50)])\n",
    "print(PCA_df.shape)\n",
    "PCA_df.insert(loc=0, column='index', value=sc_pancreas_shuff.columns)\n",
    "print(PCA_df)"
   ]
  },
  {
   "cell_type": "markdown",
   "id": "9dc229cc",
   "metadata": {},
   "source": [
    "### Scanpy tutorial for clustering on NOT imputed data"
   ]
  },
  {
   "cell_type": "code",
   "execution_count": null,
   "id": "937b8ff6",
   "metadata": {},
   "outputs": [],
   "source": [
    "sc.pp.log1p(sc_pancreas_t)\n",
    "sc_pancreas_t.raw = sc_pancreas_t"
   ]
  },
  {
   "cell_type": "code",
   "execution_count": null,
   "id": "79a6bb33",
   "metadata": {},
   "outputs": [],
   "source": [
    "sc.tl.pca(sc_pancreas_t, n_comps= 20)"
   ]
  },
  {
   "cell_type": "code",
   "execution_count": null,
   "id": "f0bf594d",
   "metadata": {},
   "outputs": [],
   "source": [
    "sc.pp.neighbors(sc_pancreas_t, n_neighbors=10, n_pcs=20)"
   ]
  },
  {
   "cell_type": "code",
   "execution_count": null,
   "id": "b4a8311c",
   "metadata": {},
   "outputs": [],
   "source": [
    "sc.tl.umap(sc_pancreas_t)"
   ]
  },
  {
   "cell_type": "code",
   "execution_count": null,
   "id": "a13572bf",
   "metadata": {},
   "outputs": [],
   "source": [
    "sc.pl.umap(sc_pancreas_t,use_raw=True)"
   ]
  },
  {
   "cell_type": "code",
   "execution_count": null,
   "id": "16f9002b",
   "metadata": {},
   "outputs": [],
   "source": [
    "sc.tl.leiden(sc_pancreas_t, resolution =0.40005)"
   ]
  },
  {
   "cell_type": "code",
   "execution_count": null,
   "id": "f2dd2af5",
   "metadata": {},
   "outputs": [],
   "source": [
    "sc.pl.umap(sc_pancreas_t, color=['leiden', 'cell_type'])"
   ]
  },
  {
   "cell_type": "code",
   "execution_count": null,
   "id": "a8bb272e",
   "metadata": {},
   "outputs": [],
   "source": [
    "#Obtain labels from leiden clustering\n",
    "leiden_labels = sc_pancreas_t.obs['leiden']\n",
    "leiden_l = np.empty((978,), dtype=int)\n",
    "for i in range(978):\n",
    "    value= leiden_labels[i]\n",
    "    leiden_l[i]= value\n"
   ]
  },
  {
   "cell_type": "code",
   "execution_count": null,
   "id": "1e81bf73",
   "metadata": {},
   "outputs": [],
   "source": [
    "#Compute PCA space to evaluate silhuoette coefficie\n",
    "sc.tl.pca(sc_pancreas_t, n_comps= 50)\n",
    "pca_matrix_50 = sc_pancreas_t.obsm['X_pca']\n",
    "#El resultado es"
   ]
  },
  {
   "cell_type": "code",
   "execution_count": null,
   "id": "c7abaa06",
   "metadata": {},
   "outputs": [],
   "source": [
    "ssc = silhouette_score(pca_matrix_50, leiden_l)\n",
    "print('Silhouette score:', ssc)\n",
    "\n",
    "ari = adjusted_rand_score(encoded_label, leiden_l)\n",
    "print('Adjusted Rand Index:', ari)\n",
    "\n",
    "v_measure = v_measure_score(encoded_label, leiden_l)\n",
    "print('V-Measure score:', v_measure)\n",
    "\n",
    "performance = (1/3)*(ssc + ari + v_measure)\n",
    "print('Performance:', performance)"
   ]
  },
  {
   "cell_type": "markdown",
   "id": "652a8830",
   "metadata": {},
   "source": [
    "# Step 3: Predict on the test data"
   ]
  },
  {
   "cell_type": "markdown",
   "id": "630b787c",
   "metadata": {},
   "source": [
    "Cuando decidamos qué tecnicas de imputación y clustering son mejores, hacerlo en los datos de test."
   ]
  },
  {
   "cell_type": "markdown",
   "id": "d2cc8182",
   "metadata": {},
   "source": [
    "# Step 4: Save the required files"
   ]
  },
  {
   "cell_type": "code",
   "execution_count": null,
   "id": "2da285de",
   "metadata": {},
   "outputs": [],
   "source": [
    "# bulkified should be a DataFrame containing the \"bulkified\" version of the imputed data\n",
    "# bulkified.columns = [\"patient5\",\"patient6\",\"patient7\"]\n",
    "# bulkified.index = sc_pancreas_test.index"
   ]
  },
  {
   "cell_type": "code",
   "execution_count": null,
   "id": "0dfefc0e",
   "metadata": {},
   "outputs": [],
   "source": [
    "# assert all(bulkified.columns == [\"index\",\"patient5\",\"patient6\",\"patient7\"])\n",
    "# assert all(bulkified[\"index\"] == sc_pancreas_test.index)"
   ]
  },
  {
   "cell_type": "code",
   "execution_count": null,
   "id": "eec6fdbe",
   "metadata": {},
   "outputs": [],
   "source": [
    "# cluster_labels should be a DataFrame containing the cluster labels for each cell\n",
    "# cluster_labels.columns = [\"index\", \"cluster\"]\n",
    "# cluster_labels[\"index\"] = sc_pancreas_test.columns"
   ]
  },
  {
   "cell_type": "code",
   "execution_count": null,
   "id": "b579f622",
   "metadata": {},
   "outputs": [],
   "source": [
    "# assert all(cluster_labels.columns == [\"index\",\"cluster\"])\n",
    "# assert all(cluster_labels[\"index\"] == sc_pancreas_test.columns)"
   ]
  },
  {
   "cell_type": "code",
   "execution_count": null,
   "id": "74b55afd",
   "metadata": {},
   "outputs": [],
   "source": [
    "# PCA should be a DataFrame containing the coordinates of each cell in the PCA transformed space for the 50 first PCs\n",
    "# PCA.columns = [\"index\", \"PC1\", \"PC2\", ..., \"PC50\"]\n",
    "# PCA[\"index\"] = sc_pancreas_test.columns"
   ]
  },
  {
   "cell_type": "code",
   "execution_count": null,
   "id": "83835eae",
   "metadata": {},
   "outputs": [],
   "source": [
    "# assert all(PCA.columns == [\"index\"] + [\"PC\"+str(i+1) for i in range(50)])\n",
    "# assert all(PCA[\"index\"] == sc_pancreas_test.columns)"
   ]
  },
  {
   "cell_type": "code",
   "execution_count": null,
   "id": "f4a7b8fc",
   "metadata": {},
   "outputs": [],
   "source": [
    "# with zipfile.ZipFile(os.path.join(results_path, archive_name), \"x\") as zf:\n",
    "#     with zf.open(f\"imputed_bulkified.csv\", \"w\") as buffer:\n",
    "#         bulkified.to_csv(buffer)\n",
    "#     with zf.open(f\"cluster_membership.csv\", \"w\") as buffer:\n",
    "#         cluster_labels.to_csv(buffer)\n",
    "#     with zf.open(f\"PCA.csv\", \"w\") as buffer:\n",
    "#         PCA.to_csv(buffer)\n",
    "#     zf.close()"
   ]
  },
  {
   "cell_type": "code",
   "execution_count": null,
   "id": "99ab0880",
   "metadata": {},
   "outputs": [],
   "source": [
    "# archive = zipfile.ZipFile(os.path.join(results_path, archive_name))\n",
    "# assert all(\n",
    "#         [\n",
    "#             i in archive.namelist()\n",
    "#             for i in [\n",
    "#                 \"imputed_bulkified.csv\",\n",
    "#                 \"cluster_membership.csv\",\n",
    "#                 \"PCA.csv\",\n",
    "#             ]\n",
    "#         ]\n",
    "#     )"
   ]
  }
 ],
 "metadata": {
  "kernelspec": {
   "display_name": "Python 3 (ipykernel)",
   "language": "python",
   "name": "python3"
  },
  "language_info": {
   "codemirror_mode": {
    "name": "ipython",
    "version": 3
   },
   "file_extension": ".py",
   "mimetype": "text/x-python",
   "name": "python",
   "nbconvert_exporter": "python",
   "pygments_lexer": "ipython3",
   "version": "3.10.10"
  },
  "vscode": {
   "interpreter": {
    "hash": "de05724856f44136ef3ff83146670974be9737c243544759e45d91084944a041"
   }
  }
 },
 "nbformat": 4,
 "nbformat_minor": 5
}
