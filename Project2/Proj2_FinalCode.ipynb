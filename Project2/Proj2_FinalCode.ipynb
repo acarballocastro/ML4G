{
 "cells": [
  {
   "cell_type": "code",
   "execution_count": 1,
   "id": "a0607918",
   "metadata": {},
   "outputs": [
    {
     "name": "stderr",
     "output_type": "stream",
     "text": [
      "/home/acarballocastro/.conda/envs/ML4G_Proj2/lib/python3.10/site-packages/tqdm/auto.py:21: TqdmWarning: IProgress not found. Please update jupyter and ipywidgets. See https://ipywidgets.readthedocs.io/en/stable/user_install.html\n",
      "  from .autonotebook import tqdm as notebook_tqdm\n"
     ]
    }
   ],
   "source": [
    "import os\n",
    "import zipfile\n",
    "\n",
    "import pandas as pd\n",
    "import numpy as np\n",
    "import matplotlib\n",
    "import matplotlib.pyplot as plt\n",
    "%matplotlib inline\n",
    "\n",
    "# Imputation libraries\n",
    "import scprep # preprocessing\n",
    "import saver\n",
    "import magic\n",
    "import scanpy as sc\n",
    "\n",
    "from scipy.stats import spearmanr\n",
    "\n",
    "# Clustering libraries\n",
    "from sklearn.manifold import TSNE\n",
    "import umap\n",
    "from sklearn.cluster import KMeans\n",
    "from sklearn.decomposition import PCA, FastICA\n",
    "from sklearn.preprocessing import LabelEncoder\n",
    "from sklearn.model_selection import train_test_split\n",
    "#from sklearn.cluster import DBSCAN\n",
    "from sklearn.utils import shuffle\n",
    "import anndata\n",
    "import scanpy.external as sce\n",
    "import harmonypy\n",
    "import pynndescent\n",
    "import hdbscan\n",
    "\n",
    "\n",
    "from sklearn.metrics import silhouette_score, adjusted_rand_score, v_measure_score\n",
    "#https://nbisweden.github.io/workshop-scRNAseq/labs/compiled/scanpy/scanpy_04_clustering.html"
   ]
  },
  {
   "attachments": {},
   "cell_type": "markdown",
   "id": "e8e6b062",
   "metadata": {},
   "source": [
    "# Step 0: Download the data"
   ]
  },
  {
   "cell_type": "code",
   "execution_count": 2,
   "id": "7375043d",
   "metadata": {},
   "outputs": [],
   "source": [
    "path_data = \"data/\"\n",
    "results_path = \"results\"\n",
    "archive_name = \"CarballoCastro_Alba.zip\""
   ]
  },
  {
   "cell_type": "code",
   "execution_count": 3,
   "id": "915be620",
   "metadata": {},
   "outputs": [],
   "source": [
    "#Read the bulk and set gene names as variables and patients as observations\n",
    "\n",
    "bulk_pancreas = pd.read_csv(os.path.join(path_data,\"train_data\",\"pancreas_bulk_train.csv\")).set_index(\"level_0\")\n",
    "bulk = sc.read(os.path.join(path_data,\"train_data\",\"pancreas_bulk_train.csv\")).transpose()\n",
    "bulk.var['gene_id'] = bulk_pancreas.index\n",
    "bulk.obs ['patient_id'] = bulk_pancreas.columns\n",
    "bulk.var_names_make_unique()"
   ]
  },
  {
   "cell_type": "code",
   "execution_count": 4,
   "id": "6b46a1ca",
   "metadata": {},
   "outputs": [],
   "source": [
    "#Now I read the single cell data and metadata\n",
    "sc_pancreas = pd.read_csv(os.path.join(path_data,\"train_data\",\"pancreas_sc_train.csv\")).set_index(\"Unnamed: 0\")\n",
    "sc_pancreas_metadata = pd.read_csv(os.path.join(path_data,\"train_data\",\"pancreas_sc_metadata_train.csv\")).set_index(\"Source Name\")\n",
    "sc_train = sc.read(os.path.join(path_data,\"train_data\",\"pancreas_sc_train.csv\")).transpose()\n",
    "sc_train.var['gene_id'] = sc_pancreas.index\n",
    "sc_train.obs['cell_id'] = sc_pancreas.columns\n",
    "sc_train.obs['cell_type']= sc_pancreas_metadata['Celltype']\n",
    "sc_train.var_names_make_unique()\n",
    "\n",
    "# I also read the single cell test data and metadata\n",
    "\n",
    "sc_pancreas_test = pd.read_csv(os.path.join(path_data,\"test_data\",\"pancreas_sc_test.csv\")).set_index(\"Unnamed: 0\")\n",
    "sc_pancreas_metadata_test = pd.read_csv(os.path.join(path_data,\"test_data\",\"pancreas_sc_metadata_test_wocelltype.csv\")).set_index(\"Source Name\")\n",
    "\n",
    "sc_test = sc.read(os.path.join(path_data,\"test_data\",\"pancreas_sc_test.csv\")).transpose()\n",
    "sc_test.var['gene_id'] = sc_pancreas_test.index\n",
    "sc_test.obs['cell_id'] = sc_pancreas_test.columns\n",
    "sc_test.var_names_make_unique()"
   ]
  },
  {
   "cell_type": "code",
   "execution_count": 5,
   "id": "28b80f3a",
   "metadata": {},
   "outputs": [
    {
     "name": "stdout",
     "output_type": "stream",
     "text": [
      "Number of patients in the train dataset 4\n",
      "Number of genes in the dataset 25453\n",
      "Number of cells in the train dataset 978\n"
     ]
    }
   ],
   "source": [
    "print(f\"Number of patients in the train dataset {bulk.X.shape[0]}\")\n",
    "\n",
    "print(f\"Number of genes in the dataset {bulk.X.shape[1]}\")\n",
    "\n",
    "assert bulk.X.shape[1] == sc_train.X.shape[1]\n",
    "print(f\"Number of cells in the train dataset {sc_train.X.shape[0]}\")"
   ]
  },
  {
   "cell_type": "code",
   "execution_count": 6,
   "id": "ae7d773d",
   "metadata": {},
   "outputs": [
    {
     "name": "stdout",
     "output_type": "stream",
     "text": [
      "Number of cells in the test dataset 789\n"
     ]
    }
   ],
   "source": [
    "print(f\"Number of cells in the test dataset {sc_test.X.shape[0]}\")"
   ]
  },
  {
   "cell_type": "code",
   "execution_count": 7,
   "id": "582b8c60",
   "metadata": {},
   "outputs": [
    {
     "name": "stdout",
     "output_type": "stream",
     "text": [
      "There are 2 train patients with type II diabetes mellitus\n",
      "There are 2 train patients with normal\n"
     ]
    }
   ],
   "source": [
    "for dis in sc_pancreas_metadata.Disease.unique():\n",
    "    df = sc_pancreas_metadata[sc_pancreas_metadata.Disease==dis]\n",
    "    print(f\"There are {df.Sample.nunique()} train patients with {dis}\")"
   ]
  },
  {
   "cell_type": "code",
   "execution_count": 8,
   "id": "ace1d76b",
   "metadata": {},
   "outputs": [
    {
     "name": "stdout",
     "output_type": "stream",
     "text": [
      "There are 13 different cell types in the dataset\n",
      "The different cells types are ['acinar cell' 'alpha cell' 'gamma cell' 'delta cell'\n",
      " 'unclassified endocrine cell' 'beta cell' 'ductal cell'\n",
      " 'endothelial cell' 'co-expression cell' 'PSC cell' 'epsilon cell'\n",
      " 'MHC class II cell' 'mast cell']\n"
     ]
    }
   ],
   "source": [
    "print(f\"There are {sc_pancreas_metadata.Celltype.nunique()} different cell types in the dataset\")\n",
    "print(f\"The different cells types are {sc_pancreas_metadata.Celltype.unique()}\")"
   ]
  },
  {
   "cell_type": "code",
   "execution_count": 9,
   "id": "acf7684d",
   "metadata": {},
   "outputs": [
    {
     "name": "stdout",
     "output_type": "stream",
     "text": [
      "Number of cells for patient5 is 203\n",
      "Number of cells for patient7 is 284\n",
      "Number of cells for patient6 is 302\n"
     ]
    }
   ],
   "source": [
    "for patient in sc_pancreas_metadata_test.Sample.unique():\n",
    "    print(f\"Number of cells for {patient} is {sc_pancreas_metadata_test[sc_pancreas_metadata_test.Sample==patient].shape[0]}\")"
   ]
  },
  {
   "cell_type": "code",
   "execution_count": 10,
   "id": "1cdb01e4",
   "metadata": {},
   "outputs": [
    {
     "name": "stdout",
     "output_type": "stream",
     "text": [
      "There are 1 test patients with normal\n",
      "There are 2 test patients with type II diabetes mellitus\n"
     ]
    }
   ],
   "source": [
    "for dis in sc_pancreas_metadata_test.Disease.unique():\n",
    "    df = sc_pancreas_metadata_test[sc_pancreas_metadata_test.Disease==dis]\n",
    "    print(f\"There are {df.Sample.nunique()} test patients with {dis}\")"
   ]
  },
  {
   "attachments": {},
   "cell_type": "markdown",
   "id": "9b4faea0",
   "metadata": {},
   "source": [
    "# Step 1: Perform imputation"
   ]
  },
  {
   "cell_type": "code",
   "execution_count": 11,
   "id": "5f7bf84c",
   "metadata": {},
   "outputs": [],
   "source": [
    "# For the imputation, we need to have the data log transformed\n",
    "sc.pp.log1p(bulk)\n",
    "sc.pp.log1p(sc_train)\n",
    "sc.pp.log1p(sc_test)"
   ]
  },
  {
   "cell_type": "code",
   "execution_count": 12,
   "id": "f72a8c5b",
   "metadata": {},
   "outputs": [
    {
     "name": "stdout",
     "output_type": "stream",
     "text": [
      "Calculating MAGIC...\n",
      "  Running MAGIC on 978 cells and 25453 genes.\n",
      "  Calculating graph and diffusion operator...\n",
      "    Calculating PCA...\n"
     ]
    },
    {
     "name": "stderr",
     "output_type": "stream",
     "text": [
      "/home/acarballocastro/.conda/envs/ML4G_Proj2/lib/python3.10/site-packages/magic/magic.py:425: UserWarning: Input matrix contains unexpressed genes. Please remove them prior to running MAGIC.\n",
      "  warnings.warn(\n"
     ]
    },
    {
     "name": "stdout",
     "output_type": "stream",
     "text": [
      "    Calculated PCA in 4.20 seconds.\n",
      "    Calculating KNN search...\n",
      "    Calculated KNN search in 0.13 seconds.\n",
      "    Calculating affinities...\n",
      "    Calculated affinities in 0.07 seconds.\n",
      "  Calculated graph and diffusion operator in 4.39 seconds.\n",
      "  Running MAGIC with `solver='exact'` on 25453-dimensional data may take a long time. Consider denoising specific genes with `genes=<list-like>` or using `solver='approximate'`.\n",
      "  Calculating imputation...\n",
      "  Calculated imputation in 0.51 seconds.\n",
      "Calculated MAGIC in 4.91 seconds.\n"
     ]
    }
   ],
   "source": [
    "magic_op = magic.MAGIC()\n",
    "#Apply MAGIC in the whole training data\n",
    "sc_magic = magic_op.fit_transform(sc_train.X)"
   ]
  },
  {
   "cell_type": "code",
   "execution_count": 13,
   "id": "1bfcb443",
   "metadata": {},
   "outputs": [
    {
     "name": "stdout",
     "output_type": "stream",
     "text": [
      "Train bulkified matrix shape is : (4, 25453)\n",
      "Train bulk matrix shape is : (4, 25453)\n",
      "Transposed train bulkified matrix shape is : (25453, 4)\n",
      "Transposed train bulk matrix shape is : (25453, 4)\n"
     ]
    }
   ],
   "source": [
    "#We will create the bulkified matrix to compare the bulk with the imputed data.\n",
    "#In the bulk matrix we just have one measurement per patient per gene. \n",
    "#In the sc data we need to compute the average over each cell for each patient and gene\n",
    "\n",
    "assert sc_pancreas_metadata.shape[0] == sc_magic.shape[0]\n",
    "df_magic = pd.DataFrame(sc_magic, index= sc_pancreas_metadata.index, columns= sc_train.var['gene_id'])\n",
    "train_merged = sc_pancreas_metadata.join(df_magic, on='Source Name')\n",
    "train_bulkified = train_merged.groupby('Sample', as_index= False).mean()\n",
    "train_bulkified.drop(train_bulkified.columns[0],axis=1, inplace=True)\n",
    "train_bulkified.index = [\"patient1\",\"patient2\",\"patient3\",\"patient4\"]\n",
    "print(f'Train bulkified matrix shape is : {train_bulkified.shape}')\n",
    "print(f'Train bulk matrix shape is : {bulk.X.shape}')\n",
    "\n",
    "#I will transpose them so that they agree with the previous dimensions just in case\n",
    "train_bulkified_t = train_bulkified.transpose()\n",
    "bulk_t = bulk.transpose()\n",
    "\n",
    "print(f'Transposed train bulkified matrix shape is : {train_bulkified_t.shape}')\n",
    "print(f'Transposed train bulk matrix shape is : {bulk_t.X.shape}')"
   ]
  },
  {
   "cell_type": "code",
   "execution_count": 14,
   "id": "5b7c7d99",
   "metadata": {},
   "outputs": [
    {
     "name": "stdout",
     "output_type": "stream",
     "text": [
      "Spearman correlation for train is 0.9580381876394828\n"
     ]
    }
   ],
   "source": [
    "# MAGIC\n",
    "corr, pval = spearmanr(bulk_t.X, train_bulkified_t)\n",
    "spearman = corr.mean()\n",
    "print(f'Spearman correlation for train is {spearman}')"
   ]
  },
  {
   "attachments": {},
   "cell_type": "markdown",
   "id": "4b4eea23",
   "metadata": {},
   "source": [
    "## Imputation on test data"
   ]
  },
  {
   "cell_type": "code",
   "execution_count": 15,
   "id": "3347458c",
   "metadata": {},
   "outputs": [
    {
     "name": "stdout",
     "output_type": "stream",
     "text": [
      "Calculating MAGIC...\n",
      "  Running MAGIC on 789 cells and 25453 genes.\n",
      "  Calculating graph and diffusion operator...\n",
      "    Calculating PCA...\n"
     ]
    },
    {
     "name": "stderr",
     "output_type": "stream",
     "text": [
      "/home/acarballocastro/.conda/envs/ML4G_Proj2/lib/python3.10/site-packages/magic/magic.py:425: UserWarning: Input matrix contains unexpressed genes. Please remove them prior to running MAGIC.\n",
      "  warnings.warn(\n"
     ]
    },
    {
     "name": "stdout",
     "output_type": "stream",
     "text": [
      "    Calculated PCA in 3.36 seconds.\n",
      "    Calculating KNN search...\n",
      "    Calculated KNN search in 0.13 seconds.\n",
      "    Calculating affinities...\n",
      "    Calculated affinities in 0.05 seconds.\n",
      "  Calculated graph and diffusion operator in 3.55 seconds.\n",
      "  Running MAGIC with `solver='exact'` on 25453-dimensional data may take a long time. Consider denoising specific genes with `genes=<list-like>` or using `solver='approximate'`.\n",
      "  Calculating imputation...\n",
      "  Calculated imputation in 0.50 seconds.\n",
      "Calculated MAGIC in 4.05 seconds.\n"
     ]
    }
   ],
   "source": [
    "sc_magic_test = magic_op.fit_transform(sc_test.X)\n",
    "\n",
    "assert sc_pancreas_metadata_test.shape[0] == sc_magic_test.shape[0]\n",
    "\n",
    "df_magic_test = pd.DataFrame(sc_magic_test, index= sc_pancreas_metadata_test.index, columns= sc_test.var['gene_id'])\n",
    "test_merged = sc_pancreas_metadata_test.join(df_magic_test, on='Source Name')\n",
    "test_bulkified = test_merged.groupby('Sample', as_index= False).mean()\n",
    "test_bulkified.drop(test_bulkified.columns[0],axis=1, inplace=True)\n",
    "\n",
    "# We transpose them so that they agree with the previous dimensions\n",
    "bulkified = test_bulkified.transpose()"
   ]
  },
  {
   "cell_type": "code",
   "execution_count": 16,
   "id": "f27ea7b5",
   "metadata": {},
   "outputs": [],
   "source": [
    "bulkified.columns = [\"patient5\",\"patient6\",\"patient7\"]\n",
    "bulkified.index.name = 'index'\n",
    "bulkified.reset_index(inplace=True)"
   ]
  },
  {
   "cell_type": "code",
   "execution_count": 17,
   "id": "64e37263",
   "metadata": {},
   "outputs": [],
   "source": [
    "assert all(bulkified.columns == [\"index\",\"patient5\",\"patient6\",\"patient7\"])\n",
    "assert all(bulkified[\"index\"] == sc_pancreas_test.index)"
   ]
  },
  {
   "attachments": {},
   "cell_type": "markdown",
   "id": "607a2563",
   "metadata": {},
   "source": [
    "# Step 2: Perform clustering"
   ]
  },
  {
   "cell_type": "code",
   "execution_count": 18,
   "id": "958c16d7",
   "metadata": {},
   "outputs": [],
   "source": [
    "sc_train = sc.read(os.path.join(path_data,\"train_data\",\"pancreas_sc_train.csv\")).transpose()\n",
    "sc_train.var['gene_id'] = sc_pancreas.index\n",
    "sc_train.obs['cell_id'] = sc_pancreas.columns\n",
    "sc_train.obs['cell_type']= sc_pancreas_metadata['Celltype']\n",
    "sc_train.var_names_make_unique()"
   ]
  },
  {
   "cell_type": "code",
   "execution_count": 19,
   "id": "c2c47de9",
   "metadata": {},
   "outputs": [
    {
     "name": "stdout",
     "output_type": "stream",
     "text": [
      "WARNING: adata.X seems to be already log-transformed.\n"
     ]
    },
    {
     "name": "stderr",
     "output_type": "stream",
     "text": [
      "/home/acarballocastro/.conda/envs/ML4G_Proj2/lib/python3.10/site-packages/scanpy/preprocessing/_simple.py:843: UserWarning: Received a view of an AnnData. Making a copy.\n",
      "  view_to_actual(adata)\n"
     ]
    }
   ],
   "source": [
    "sc.pp.filter_genes(sc_train, min_cells=14)\n",
    "sc.pp.log1p(sc_train)\n",
    "sc.pp.normalize_total(sc_train, target_sum=1e4) \n",
    "sc.pp.log1p(sc_train, base=10)\n",
    "sc_train.raw = sc_train\n",
    "sc.pp.highly_variable_genes(sc_train, n_top_genes=800)\n",
    "sc_train = sc_train[:, sc_train.var.highly_variable]\n",
    "sc.pp.scale(sc_train)\n",
    "\n",
    "df = pd.DataFrame(sc_train.X)"
   ]
  },
  {
   "cell_type": "code",
   "execution_count": 20,
   "id": "198a596e",
   "metadata": {},
   "outputs": [
    {
     "name": "stdout",
     "output_type": "stream",
     "text": [
      "Silhouette score: 0.77570915\n",
      "Adjusted Rand Index: 0.9091723074345411\n",
      "V-Measure score: 0.8980144331333542\n",
      "Performance: 0.8609652975965251\n"
     ]
    }
   ],
   "source": [
    "#Encode the true labels\n",
    "cell_labels = sc_pancreas_metadata['Celltype']\n",
    "encoder = LabelEncoder()\n",
    "encoded_label = encoder.fit_transform(cell_labels)\n",
    "\n",
    "clusterable_embedding = umap.UMAP(\n",
    "    n_neighbors=9,\n",
    "    min_dist=0.0,\n",
    "    n_components=110,\n",
    "    random_state=42).fit_transform(df)\n",
    "\n",
    "pca = PCA(n_components=50)\n",
    "pca_matrix = pca.fit_transform(clusterable_embedding)\n",
    "\n",
    "labels = hdbscan.HDBSCAN(min_samples=2, min_cluster_size=14).fit_predict(clusterable_embedding)\n",
    "\n",
    "# Evaluate the performance\n",
    "ssc = silhouette_score(pca_matrix, labels)\n",
    "print('Silhouette score:', ssc)\n",
    "\n",
    "ari = adjusted_rand_score(encoded_label, labels)\n",
    "print('Adjusted Rand Index:', ari)\n",
    "\n",
    "v_measure = v_measure_score(encoded_label, labels)\n",
    "print('V-Measure score:', v_measure)\n",
    "\n",
    "performance = (1/3)*(ssc + ari + v_measure)\n",
    "print('Performance:', performance)"
   ]
  },
  {
   "attachments": {},
   "cell_type": "markdown",
   "id": "da7f1d13",
   "metadata": {},
   "source": [
    "## Clustering on test data"
   ]
  },
  {
   "cell_type": "code",
   "execution_count": 21,
   "id": "7a9c8c3b",
   "metadata": {},
   "outputs": [
    {
     "name": "stdout",
     "output_type": "stream",
     "text": [
      "WARNING: adata.X seems to be already log-transformed.\n"
     ]
    },
    {
     "name": "stderr",
     "output_type": "stream",
     "text": [
      "/home/acarballocastro/.conda/envs/ML4G_Proj2/lib/python3.10/site-packages/scanpy/preprocessing/_simple.py:843: UserWarning: Received a view of an AnnData. Making a copy.\n",
      "  view_to_actual(adata)\n"
     ]
    }
   ],
   "source": [
    "sc_test = sc.read(os.path.join(path_data,\"test_data\",\"pancreas_sc_test.csv\")).transpose()\n",
    "sc_test.var['gene_id'] = sc_pancreas_test.index\n",
    "sc_test.obs['cell_id'] = sc_pancreas_test.columns\n",
    "\n",
    "sc_test.var_names_make_unique()\n",
    "sc.pp.filter_genes(sc_test, min_cells=14)\n",
    "sc.pp.log1p(sc_test)\n",
    "sc.pp.normalize_total(sc_test, target_sum=1e4) \n",
    "sc.pp.log1p(sc_test, base=10)\n",
    "sc_test.raw = sc_test\n",
    "sc.pp.highly_variable_genes(sc_test, n_top_genes=800)\n",
    "sc_test = sc_test[:, sc_test.var.highly_variable]\n",
    "sc.pp.scale(sc_test)\n",
    "\n",
    "df_test = pd.DataFrame(sc_test.X)"
   ]
  },
  {
   "cell_type": "code",
   "execution_count": 22,
   "id": "61edd5c6",
   "metadata": {},
   "outputs": [
    {
     "name": "stdout",
     "output_type": "stream",
     "text": [
      "Silhouette score: 0.8306332\n"
     ]
    }
   ],
   "source": [
    "clusterable_embedding_test = umap.UMAP(\n",
    "    n_neighbors=9,\n",
    "    min_dist=0.0,\n",
    "    n_components=110,\n",
    "    random_state=42).fit_transform(df_test)\n",
    "\n",
    "pca_test = PCA(n_components=50)\n",
    "pca_matrix_test = pca.fit_transform(clusterable_embedding_test)\n",
    "\n",
    "labels_test = hdbscan.HDBSCAN(min_samples=2, min_cluster_size=14).fit_predict(clusterable_embedding_test)\n",
    "\n",
    "# Evaluate the performance\n",
    "ssc = silhouette_score(pca_matrix_test, labels_test)\n",
    "print('Silhouette score:', ssc)"
   ]
  },
  {
   "cell_type": "code",
   "execution_count": 23,
   "id": "f0e3966c",
   "metadata": {},
   "outputs": [],
   "source": [
    "cluster_labels = pd.DataFrame(data = {'index': sc_pancreas_test.columns, 'cluster': (labels_test + 1)})\n",
    "assert all(cluster_labels.columns == [\"index\",\"cluster\"])\n",
    "assert all(cluster_labels[\"index\"] == sc_pancreas_test.columns)"
   ]
  },
  {
   "cell_type": "code",
   "execution_count": 25,
   "id": "5e5b1830",
   "metadata": {},
   "outputs": [],
   "source": [
    "# PCA should be a DataFrame containing the coordinates of each cell in the PCA transformed space for the 50 first PCs\n",
    "pca_df = pd.DataFrame(data = pca_matrix_test, columns = [\"PC\"+str(i+1) for i in range(50)])\n",
    "pca_df.insert(loc=0, column='index', value=sc_pancreas_test.columns)\n",
    "assert all(pca_df.columns == [\"index\"] + [\"PC\"+str(i+1) for i in range(50)])\n",
    "assert all(pca_df[\"index\"] == sc_pancreas_test.columns)"
   ]
  },
  {
   "cell_type": "code",
   "execution_count": 33,
   "id": "81f2cf2d",
   "metadata": {},
   "outputs": [],
   "source": [
    "with zipfile.ZipFile(os.path.join(results_path, archive_name), \"x\") as zf:\n",
    "    with zf.open(f\"imputed_bulkified.csv\", \"w\") as buffer:\n",
    "        bulkified.to_csv(buffer)\n",
    "    with zf.open(f\"cluster_membership.csv\", \"w\") as buffer:\n",
    "        cluster_labels.to_csv(buffer)\n",
    "    with zf.open(f\"PCA.csv\", \"w\") as buffer:\n",
    "        pca_df.to_csv(buffer)\n",
    "    zf.close()"
   ]
  },
  {
   "cell_type": "code",
   "execution_count": 34,
   "id": "da0e2afc",
   "metadata": {},
   "outputs": [],
   "source": [
    "archive = zipfile.ZipFile(os.path.join(results_path, archive_name))\n",
    "assert all(\n",
    "        [\n",
    "            i in archive.namelist()\n",
    "            for i in [\n",
    "                \"imputed_bulkified.csv\",\n",
    "                \"cluster_membership.csv\",\n",
    "                \"PCA.csv\",\n",
    "            ]\n",
    "        ]\n",
    "    )"
   ]
  }
 ],
 "metadata": {
  "kernelspec": {
   "display_name": "Python 3 (ipykernel)",
   "language": "python",
   "name": "python3"
  },
  "language_info": {
   "codemirror_mode": {
    "name": "ipython",
    "version": 3
   },
   "file_extension": ".py",
   "mimetype": "text/x-python",
   "name": "python",
   "nbconvert_exporter": "python",
   "pygments_lexer": "ipython3",
   "version": "3.10.10"
  }
 },
 "nbformat": 4,
 "nbformat_minor": 5
}
